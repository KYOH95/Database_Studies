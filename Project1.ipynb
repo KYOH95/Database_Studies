{
  "nbformat": 4,
  "nbformat_minor": 0,
  "metadata": {
    "colab": {
      "name": "Project1.ipynb",
      "provenance": [],
      "collapsed_sections": [],
      "toc_visible": true,
      "authorship_tag": "ABX9TyMjICjzCtWdr2MuooCWyW1W",
      "include_colab_link": true
    },
    "kernelspec": {
      "name": "python3",
      "display_name": "Python 3"
    },
    "language_info": {
      "name": "python"
    }
  },
  "cells": [
    {
      "cell_type": "markdown",
      "metadata": {
        "id": "view-in-github",
        "colab_type": "text"
      },
      "source": [
        "<a href=\"https://colab.research.google.com/github/KYOH95/Database_Studies/blob/main/Project1.ipynb\" target=\"_parent\"><img src=\"https://colab.research.google.com/assets/colab-badge.svg\" alt=\"Open In Colab\"/></a>"
      ]
    },
    {
      "cell_type": "code",
      "execution_count": 283,
      "metadata": {
        "id": "gDR9s0Mz-SAR"
      },
      "outputs": [],
      "source": [
        "import pandas as pd\n",
        "import numpy as np\n",
        "import seaborn as sns\n",
        "import matplotlib.pyplot as plt"
      ]
    },
    {
      "cell_type": "markdown",
      "source": [
        "##데이터 불러오기"
      ],
      "metadata": {
        "id": "yRMN_ocCJ5Eb"
      }
    },
    {
      "cell_type": "code",
      "source": [
        "df_origin = pd.read_csv(\"https://ds-lecture-data.s3.ap-northeast-2.amazonaws.com/datasets/vgames2.csv\")\n",
        "df = df_origin\n",
        "\n",
        "print(\"결측치:\\n\",df.isnull().sum()) #결측치 확인\n",
        "\n",
        "df = df.dropna(axis = 0) #결측치가 포함된 모든 행 제거\n",
        "df = df.drop(df.columns[[0]], axis=1) #첫번째 열 제거\n",
        "df = df.reset_index(level=None, drop=True, inplace=False, col_level=0, col_fill='')\n",
        "\n",
        "print(\"원본 데이터:\",df_origin.shape)\n",
        "print(\"수정 데이터:\",df.shape)"
      ],
      "metadata": {
        "colab": {
          "base_uri": "https://localhost:8080/"
        },
        "id": "68VhuWdm-e8y",
        "outputId": "d3bda94d-fc94-45cd-a32a-17a673f079d8"
      },
      "execution_count": 284,
      "outputs": [
        {
          "output_type": "stream",
          "name": "stdout",
          "text": [
            "결측치:\n",
            " Unnamed: 0       0\n",
            "Name             0\n",
            "Platform         0\n",
            "Year           271\n",
            "Genre           50\n",
            "Publisher       58\n",
            "NA_Sales         0\n",
            "EU_Sales         0\n",
            "JP_Sales         0\n",
            "Other_Sales      0\n",
            "dtype: int64\n",
            "원본 데이터: (16598, 10)\n",
            "수정 데이터: (16241, 9)\n"
          ]
        }
      ]
    },
    {
      "cell_type": "code",
      "source": [
        "#sales 값 object에서 float으로 타입 변경\n",
        "df['NA_Sales'] = pd.to_numeric(df['NA_Sales'],errors = 'coerce')\n",
        "df['EU_Sales'] = pd.to_numeric(df['EU_Sales'],errors = 'coerce')\n",
        "df['JP_Sales'] = pd.to_numeric(df['JP_Sales'],errors = 'coerce')\n",
        "df['Other_Sales'] = pd.to_numeric(df['Other_Sales'],errors = 'coerce')\n",
        "\n",
        "#Total_sales 칼럼을 새로 만든다.\n",
        "df['Total_sales'] = df['NA_Sales'] + df['EU_Sales'] + df['JP_Sales'] + df['Other_Sales']\n",
        "\n",
        "#Total_sales가 0인 행 확인\n",
        "condition = df[\"Total_sales\"]<=0\n",
        "print(\"Total_sales가 0인 행\\n\",df[condition].count())\n",
        "print(\"sales 0값 데이터 제거 전:\", df.shape)\n",
        "\n",
        "#Total Sales가 0인 데이터도 삭제\n",
        "df.drop(df.loc[df[\"Total_sales\"] == 0].index, inplace = True) \n",
        "print(\"sales 0값 데이터 제거 후:\",df.shape)"
      ],
      "metadata": {
        "colab": {
          "base_uri": "https://localhost:8080/"
        },
        "id": "3-5TzO0tINFZ",
        "outputId": "90a733aa-a43c-499a-cbf6-9a9e841bccc0"
      },
      "execution_count": 285,
      "outputs": [
        {
          "output_type": "stream",
          "name": "stdout",
          "text": [
            "Total_sales가 0인 행\n",
            " Name           1\n",
            "Platform       1\n",
            "Year           1\n",
            "Genre          1\n",
            "Publisher      1\n",
            "NA_Sales       1\n",
            "EU_Sales       1\n",
            "JP_Sales       1\n",
            "Other_Sales    1\n",
            "Total_sales    1\n",
            "dtype: int64\n",
            "sales 0값 데이터 제거 전: (16241, 10)\n",
            "sales 0값 데이터 제거 후: (16240, 10)\n"
          ]
        }
      ]
    },
    {
      "cell_type": "code",
      "source": [
        "df.head(7)"
      ],
      "metadata": {
        "colab": {
          "base_uri": "https://localhost:8080/",
          "height": 269
        },
        "id": "Osr7s7z3KKQF",
        "outputId": "47448d69-2c14-421b-d043-6d8c15e2b483"
      },
      "execution_count": 286,
      "outputs": [
        {
          "output_type": "execute_result",
          "data": {
            "text/plain": [
              "                                             Name Platform    Year  \\\n",
              "0                    Candace Kane's Candy Factory       DS  2008.0   \n",
              "1                                  The Munchables      Wii  2009.0   \n",
              "2  Otome wa Oanesama Boku ni Koi Shiteru Portable      PSP  2010.0   \n",
              "3                Deal or No Deal: Special Edition       DS  2010.0   \n",
              "4       Ben 10 Ultimate Alien: Cosmic Destruction      PS3  2010.0   \n",
              "5                          Power Pro Kun Pocket 8       DS  2005.0   \n",
              "6           JASF: Jane's Advanced Strike Fighters       PC  2011.0   \n",
              "\n",
              "        Genre                     Publisher  NA_Sales  EU_Sales  JP_Sales  \\\n",
              "0      Action                     Destineer      0.04      0.00      0.00   \n",
              "1      Action            Namco Bandai Games      0.17      0.00      0.00   \n",
              "2   Adventure                     Alchemist      0.00      0.00      0.02   \n",
              "3        Misc                     Zoo Games      0.04      0.00      0.00   \n",
              "4    Platform                   D3Publisher      0.12      0.09      0.00   \n",
              "5      Sports  Konami Digital Entertainment      0.00      0.00      0.14   \n",
              "6  Simulation                   Deep Silver      0.02      0.01      0.00   \n",
              "\n",
              "   Other_Sales  Total_sales  \n",
              "0         0.00         0.04  \n",
              "1         0.01         0.18  \n",
              "2         0.00         0.02  \n",
              "3         0.00         0.04  \n",
              "4         0.04         0.25  \n",
              "5         0.00         0.14  \n",
              "6         0.00         0.03  "
            ],
            "text/html": [
              "\n",
              "  <div id=\"df-8fc22a1b-7927-46c5-8313-dc31071361bd\">\n",
              "    <div class=\"colab-df-container\">\n",
              "      <div>\n",
              "<style scoped>\n",
              "    .dataframe tbody tr th:only-of-type {\n",
              "        vertical-align: middle;\n",
              "    }\n",
              "\n",
              "    .dataframe tbody tr th {\n",
              "        vertical-align: top;\n",
              "    }\n",
              "\n",
              "    .dataframe thead th {\n",
              "        text-align: right;\n",
              "    }\n",
              "</style>\n",
              "<table border=\"1\" class=\"dataframe\">\n",
              "  <thead>\n",
              "    <tr style=\"text-align: right;\">\n",
              "      <th></th>\n",
              "      <th>Name</th>\n",
              "      <th>Platform</th>\n",
              "      <th>Year</th>\n",
              "      <th>Genre</th>\n",
              "      <th>Publisher</th>\n",
              "      <th>NA_Sales</th>\n",
              "      <th>EU_Sales</th>\n",
              "      <th>JP_Sales</th>\n",
              "      <th>Other_Sales</th>\n",
              "      <th>Total_sales</th>\n",
              "    </tr>\n",
              "  </thead>\n",
              "  <tbody>\n",
              "    <tr>\n",
              "      <th>0</th>\n",
              "      <td>Candace Kane's Candy Factory</td>\n",
              "      <td>DS</td>\n",
              "      <td>2008.0</td>\n",
              "      <td>Action</td>\n",
              "      <td>Destineer</td>\n",
              "      <td>0.04</td>\n",
              "      <td>0.00</td>\n",
              "      <td>0.00</td>\n",
              "      <td>0.00</td>\n",
              "      <td>0.04</td>\n",
              "    </tr>\n",
              "    <tr>\n",
              "      <th>1</th>\n",
              "      <td>The Munchables</td>\n",
              "      <td>Wii</td>\n",
              "      <td>2009.0</td>\n",
              "      <td>Action</td>\n",
              "      <td>Namco Bandai Games</td>\n",
              "      <td>0.17</td>\n",
              "      <td>0.00</td>\n",
              "      <td>0.00</td>\n",
              "      <td>0.01</td>\n",
              "      <td>0.18</td>\n",
              "    </tr>\n",
              "    <tr>\n",
              "      <th>2</th>\n",
              "      <td>Otome wa Oanesama Boku ni Koi Shiteru Portable</td>\n",
              "      <td>PSP</td>\n",
              "      <td>2010.0</td>\n",
              "      <td>Adventure</td>\n",
              "      <td>Alchemist</td>\n",
              "      <td>0.00</td>\n",
              "      <td>0.00</td>\n",
              "      <td>0.02</td>\n",
              "      <td>0.00</td>\n",
              "      <td>0.02</td>\n",
              "    </tr>\n",
              "    <tr>\n",
              "      <th>3</th>\n",
              "      <td>Deal or No Deal: Special Edition</td>\n",
              "      <td>DS</td>\n",
              "      <td>2010.0</td>\n",
              "      <td>Misc</td>\n",
              "      <td>Zoo Games</td>\n",
              "      <td>0.04</td>\n",
              "      <td>0.00</td>\n",
              "      <td>0.00</td>\n",
              "      <td>0.00</td>\n",
              "      <td>0.04</td>\n",
              "    </tr>\n",
              "    <tr>\n",
              "      <th>4</th>\n",
              "      <td>Ben 10 Ultimate Alien: Cosmic Destruction</td>\n",
              "      <td>PS3</td>\n",
              "      <td>2010.0</td>\n",
              "      <td>Platform</td>\n",
              "      <td>D3Publisher</td>\n",
              "      <td>0.12</td>\n",
              "      <td>0.09</td>\n",
              "      <td>0.00</td>\n",
              "      <td>0.04</td>\n",
              "      <td>0.25</td>\n",
              "    </tr>\n",
              "    <tr>\n",
              "      <th>5</th>\n",
              "      <td>Power Pro Kun Pocket 8</td>\n",
              "      <td>DS</td>\n",
              "      <td>2005.0</td>\n",
              "      <td>Sports</td>\n",
              "      <td>Konami Digital Entertainment</td>\n",
              "      <td>0.00</td>\n",
              "      <td>0.00</td>\n",
              "      <td>0.14</td>\n",
              "      <td>0.00</td>\n",
              "      <td>0.14</td>\n",
              "    </tr>\n",
              "    <tr>\n",
              "      <th>6</th>\n",
              "      <td>JASF: Jane's Advanced Strike Fighters</td>\n",
              "      <td>PC</td>\n",
              "      <td>2011.0</td>\n",
              "      <td>Simulation</td>\n",
              "      <td>Deep Silver</td>\n",
              "      <td>0.02</td>\n",
              "      <td>0.01</td>\n",
              "      <td>0.00</td>\n",
              "      <td>0.00</td>\n",
              "      <td>0.03</td>\n",
              "    </tr>\n",
              "  </tbody>\n",
              "</table>\n",
              "</div>\n",
              "      <button class=\"colab-df-convert\" onclick=\"convertToInteractive('df-8fc22a1b-7927-46c5-8313-dc31071361bd')\"\n",
              "              title=\"Convert this dataframe to an interactive table.\"\n",
              "              style=\"display:none;\">\n",
              "        \n",
              "  <svg xmlns=\"http://www.w3.org/2000/svg\" height=\"24px\"viewBox=\"0 0 24 24\"\n",
              "       width=\"24px\">\n",
              "    <path d=\"M0 0h24v24H0V0z\" fill=\"none\"/>\n",
              "    <path d=\"M18.56 5.44l.94 2.06.94-2.06 2.06-.94-2.06-.94-.94-2.06-.94 2.06-2.06.94zm-11 1L8.5 8.5l.94-2.06 2.06-.94-2.06-.94L8.5 2.5l-.94 2.06-2.06.94zm10 10l.94 2.06.94-2.06 2.06-.94-2.06-.94-.94-2.06-.94 2.06-2.06.94z\"/><path d=\"M17.41 7.96l-1.37-1.37c-.4-.4-.92-.59-1.43-.59-.52 0-1.04.2-1.43.59L10.3 9.45l-7.72 7.72c-.78.78-.78 2.05 0 2.83L4 21.41c.39.39.9.59 1.41.59.51 0 1.02-.2 1.41-.59l7.78-7.78 2.81-2.81c.8-.78.8-2.07 0-2.86zM5.41 20L4 18.59l7.72-7.72 1.47 1.35L5.41 20z\"/>\n",
              "  </svg>\n",
              "      </button>\n",
              "      \n",
              "  <style>\n",
              "    .colab-df-container {\n",
              "      display:flex;\n",
              "      flex-wrap:wrap;\n",
              "      gap: 12px;\n",
              "    }\n",
              "\n",
              "    .colab-df-convert {\n",
              "      background-color: #E8F0FE;\n",
              "      border: none;\n",
              "      border-radius: 50%;\n",
              "      cursor: pointer;\n",
              "      display: none;\n",
              "      fill: #1967D2;\n",
              "      height: 32px;\n",
              "      padding: 0 0 0 0;\n",
              "      width: 32px;\n",
              "    }\n",
              "\n",
              "    .colab-df-convert:hover {\n",
              "      background-color: #E2EBFA;\n",
              "      box-shadow: 0px 1px 2px rgba(60, 64, 67, 0.3), 0px 1px 3px 1px rgba(60, 64, 67, 0.15);\n",
              "      fill: #174EA6;\n",
              "    }\n",
              "\n",
              "    [theme=dark] .colab-df-convert {\n",
              "      background-color: #3B4455;\n",
              "      fill: #D2E3FC;\n",
              "    }\n",
              "\n",
              "    [theme=dark] .colab-df-convert:hover {\n",
              "      background-color: #434B5C;\n",
              "      box-shadow: 0px 1px 3px 1px rgba(0, 0, 0, 0.15);\n",
              "      filter: drop-shadow(0px 1px 2px rgba(0, 0, 0, 0.3));\n",
              "      fill: #FFFFFF;\n",
              "    }\n",
              "  </style>\n",
              "\n",
              "      <script>\n",
              "        const buttonEl =\n",
              "          document.querySelector('#df-8fc22a1b-7927-46c5-8313-dc31071361bd button.colab-df-convert');\n",
              "        buttonEl.style.display =\n",
              "          google.colab.kernel.accessAllowed ? 'block' : 'none';\n",
              "\n",
              "        async function convertToInteractive(key) {\n",
              "          const element = document.querySelector('#df-8fc22a1b-7927-46c5-8313-dc31071361bd');\n",
              "          const dataTable =\n",
              "            await google.colab.kernel.invokeFunction('convertToInteractive',\n",
              "                                                     [key], {});\n",
              "          if (!dataTable) return;\n",
              "\n",
              "          const docLinkHtml = 'Like what you see? Visit the ' +\n",
              "            '<a target=\"_blank\" href=https://colab.research.google.com/notebooks/data_table.ipynb>data table notebook</a>'\n",
              "            + ' to learn more about interactive tables.';\n",
              "          element.innerHTML = '';\n",
              "          dataTable['output_type'] = 'display_data';\n",
              "          await google.colab.output.renderOutput(dataTable, element);\n",
              "          const docLink = document.createElement('div');\n",
              "          docLink.innerHTML = docLinkHtml;\n",
              "          element.appendChild(docLink);\n",
              "        }\n",
              "      </script>\n",
              "    </div>\n",
              "  </div>\n",
              "  "
            ]
          },
          "metadata": {},
          "execution_count": 286
        }
      ]
    },
    {
      "cell_type": "markdown",
      "source": [
        "##지역에 따라서 선호하는 게임 장르가 다를까"
      ],
      "metadata": {
        "id": "SFjIwRcuI6v9"
      }
    },
    {
      "cell_type": "code",
      "source": [
        "df[[\"NA_Sales\",\"EU_Sales\",\"JP_Sales\",\"Other_Sales\",\"Total_sales\"]].sum()"
      ],
      "metadata": {
        "colab": {
          "base_uri": "https://localhost:8080/"
        },
        "id": "BOmTrQdQJ3zN",
        "outputId": "dfb63565-145d-489d-d700-ebcf01a3d5bc"
      },
      "execution_count": 287,
      "outputs": [
        {
          "output_type": "execute_result",
          "data": {
            "text/plain": [
              "NA_Sales       4232.45\n",
              "EU_Sales       2359.24\n",
              "JP_Sales       1251.43\n",
              "Other_Sales     775.94\n",
              "Total_sales    8298.32\n",
              "dtype: float64"
            ]
          },
          "metadata": {},
          "execution_count": 287
        }
      ]
    },
    {
      "cell_type": "code",
      "source": [
        "a = df[\"NA_Sales\"].sum()\n",
        "b = df[\"EU_Sales\"].sum()\n",
        "c = df[\"JP_Sales\"].sum()\n",
        "d = df[\"Other_Sales\"].sum()\n",
        "e = df[\"Total_sales\"].sum()\n",
        "print(a,b,c,d,e)\n",
        "print(a+b+c+d)"
      ],
      "metadata": {
        "colab": {
          "base_uri": "https://localhost:8080/"
        },
        "id": "d32XPl3GOskP",
        "outputId": "f4dbf48d-f10b-494e-ebf1-333e3af14c15"
      },
      "execution_count": 288,
      "outputs": [
        {
          "output_type": "stream",
          "name": "stdout",
          "text": [
            "4232.45 2359.24 1251.43 775.94 8298.32\n",
            "8619.06\n"
          ]
        }
      ]
    },
    {
      "cell_type": "code",
      "source": [
        "condition = df[\"NA_Sales\"] > 0\n",
        "a = df[condition].value_counts().sum()\n",
        "df[condition].value_counts()"
      ],
      "metadata": {
        "colab": {
          "base_uri": "https://localhost:8080/"
        },
        "id": "wVFWZovpK6Bu",
        "outputId": "1bfd8130-5acf-44ce-beae-064c332b8693"
      },
      "execution_count": 289,
      "outputs": [
        {
          "output_type": "execute_result",
          "data": {
            "text/plain": [
              "Name                           Platform  Year    Genre         Publisher        NA_Sales  EU_Sales  JP_Sales  Other_Sales  Total_sales\n",
              "'98 Koshien                    PS        1998.0  Sports        Magical Company  0.15      0.10      0.12      0.03         0.40           1\n",
              "Petz Dogz 2                    DS        2007.0  Simulation    Ubisoft          0.47      0.52      0.00      0.12         1.11           1\n",
              "RPG Maker 3                    PS2       2004.0  Role-Playing  Enterbrain       0.03      0.02      0.00      0.01         0.06           1\n",
              "RPG Maker II                   PS2       2002.0  Role-Playing  Enterbrain       0.06      0.05      0.00      0.02         0.13           1\n",
              "RR64: Ridge Racer 64           N64       1999.0  Racing        Nintendo         0.32      0.07      0.00      0.00         0.39           1\n",
              "                                                                                                                                         ..\n",
              "Grooverider: Slot Car Thunder  XB        3.0     Racing        Encore           0.01      0.00      0.00      0.00         0.01           1\n",
              "Groovin' Blocks                Wii       2009.0  Puzzle        Zoo Games        0.01      0.00      0.00      0.00         0.01           1\n",
              "Group S Challenge              XB        2003.0  Racing        Capcom           0.02      0.00      0.00      0.00         0.02           1\n",
              "Growlanser Generations         PS2       2003.0  Role-Playing  Atlus            0.06      0.04      0.00      0.01         0.11           1\n",
              "uDraw Studio: Instant Artist   X360      2011.0  Misc          THQ              0.01      0.01      0.00      0.00         0.02           1\n",
              "Length: 11268, dtype: int64"
            ]
          },
          "metadata": {},
          "execution_count": 289
        }
      ]
    },
    {
      "cell_type": "code",
      "source": [
        "condition = df[\"NA_Sales\"] == 0\n",
        "b = df[condition].value_counts().sum()\n",
        "df[condition].value_counts()"
      ],
      "metadata": {
        "colab": {
          "base_uri": "https://localhost:8080/"
        },
        "id": "vJY4VqhOMBfB",
        "outputId": "3fcb3313-4758-420e-e9f5-c75e3d4a2df3"
      },
      "execution_count": 290,
      "outputs": [
        {
          "output_type": "execute_result",
          "data": {
            "text/plain": [
              "Name                                               Platform  Year    Genre         Publisher           NA_Sales  EU_Sales  JP_Sales  Other_Sales  Total_sales\n",
              ".hack//G.U. Vol.1//Rebirth                         PS2       2006.0  Role-Playing  Namco Bandai Games  0.0       0.00      0.17      0.00         0.17           1\n",
              "Resident Evil 6                                    PC        2012.0  Shooter       Capcom              0.0       0.04      0.00      0.01         0.05           1\n",
              "Resident Evil Director's Cut                       PS3       2006.0  Action        Capcom              0.0       0.00      0.04      0.00         0.04           1\n",
              "Resident Evil Director's Cut: Dual Shock Edition   PS        1997.0  Action        Capcom              0.0       0.00      0.16      0.01         0.17           1\n",
              "Resident Evil: Operation Raccoon City              PC        2012.0  Action        Capcom              0.0       0.03      0.00      0.01         0.04           1\n",
              "                                                                                                                                                                ..\n",
              "Hitman: Blood Money                                PC        2006.0  Action        Eidos Interactive   0.0       0.03      0.00      0.01         0.04           1\n",
              "Hitotsu Tobashi Renai V                            PSV       2015.0  Adventure     Kaga Create         0.0       0.00      0.01      0.00         0.01           1\n",
              "Hokuto no Ken                                      PS2       2007.0  Fighting      Sega                0.0       0.00      0.05      0.00         0.05           1\n",
              "Hokuto no Ken: Hokuto Shinken Denshousha no Michi  DS        2008.0  Action        Spike               0.0       0.00      0.03      0.00         0.03           1\n",
              "¡Shin Chan Flipa en colores!                       DS        2007.0  Platform      505 Games           0.0       0.00      0.14      0.00         0.14           1\n",
              "Length: 4207, dtype: int64"
            ]
          },
          "metadata": {},
          "execution_count": 290
        }
      ]
    },
    {
      "cell_type": "code",
      "source": [
        "condition = df[\"NA_Sales\"] < 0\n",
        "c = df[condition].value_counts().sum()"
      ],
      "metadata": {
        "id": "ZPJSfXGcMM8H"
      },
      "execution_count": 291,
      "outputs": []
    },
    {
      "cell_type": "code",
      "source": [
        "print(a,b,c)\n",
        "print(a+b+c)"
      ],
      "metadata": {
        "colab": {
          "base_uri": "https://localhost:8080/"
        },
        "id": "Q1Ob9xvGLjDK",
        "outputId": "d4dc9050-e011-4ea2-90c4-7924e67b65fe"
      },
      "execution_count": 292,
      "outputs": [
        {
          "output_type": "stream",
          "name": "stdout",
          "text": [
            "11268 4207 0\n",
            "15475\n"
          ]
        }
      ]
    },
    {
      "cell_type": "markdown",
      "source": [
        "##연도별 게임의 트렌드가 있을까"
      ],
      "metadata": {
        "id": "tGhUW86lI62y"
      }
    },
    {
      "cell_type": "code",
      "source": [
        ""
      ],
      "metadata": {
        "id": "7WwW2RaXKBx0"
      },
      "execution_count": 292,
      "outputs": []
    },
    {
      "cell_type": "markdown",
      "source": [
        "##출고량이 높은 게임에 대한 분석 및 시각화 프로세스"
      ],
      "metadata": {
        "id": "SPlc6Xz7Jy2J"
      }
    },
    {
      "cell_type": "code",
      "source": [
        "#플렛폼별 게임 갯수 top10\n",
        "print(\"플렛폼별 게임 카운트 top10\")\n",
        "print(df['Platform'].value_counts().head(10),\"\\n\")\n",
        "\n",
        "#플렛폼 별 토탈 게임 출고량 순 top10\n",
        "print(\"플렛폼 별 토탈 게임 출고량 순 top10\")\n",
        "print(df.groupby(['Platform']).sum()[\"Total_sales\"].sort_values(ascending = False).head(10))"
      ],
      "metadata": {
        "colab": {
          "base_uri": "https://localhost:8080/"
        },
        "id": "aQyWMVaH-fBG",
        "outputId": "d359d724-2131-4b96-b7b5-e76cc213b093"
      },
      "execution_count": 293,
      "outputs": [
        {
          "output_type": "stream",
          "name": "stdout",
          "text": [
            "플렛폼별 게임 카운트 top10\n",
            "DS      2127\n",
            "PS2     2120\n",
            "PS3     1299\n",
            "Wii     1284\n",
            "X360    1231\n",
            "PSP     1193\n",
            "PS      1185\n",
            "PC       935\n",
            "XB       799\n",
            "GBA      784\n",
            "Name: Platform, dtype: int64 \n",
            "\n",
            "플렛폼 별 토탈 게임 출고량 순 top10\n",
            "Platform\n",
            "PS2     1172.40\n",
            "PS3      901.61\n",
            "X360     895.40\n",
            "Wii      868.18\n",
            "DS       787.69\n",
            "PS       681.18\n",
            "PSP      282.93\n",
            "GBA      279.30\n",
            "PS4      252.97\n",
            "PC       243.04\n",
            "Name: Total_sales, dtype: float64\n"
          ]
        }
      ]
    },
    {
      "cell_type": "code",
      "source": [
        ""
      ],
      "metadata": {
        "id": "hmqZZrQrA3SU"
      },
      "execution_count": 293,
      "outputs": []
    },
    {
      "cell_type": "code",
      "source": [
        "df"
      ],
      "metadata": {
        "colab": {
          "base_uri": "https://localhost:8080/",
          "height": 423
        },
        "id": "upz4fcPGESNj",
        "outputId": "45b59ab9-a6d0-4e33-b730-63b2065e228e"
      },
      "execution_count": 294,
      "outputs": [
        {
          "output_type": "execute_result",
          "data": {
            "text/plain": [
              "                                                 Name Platform    Year  \\\n",
              "0                        Candace Kane's Candy Factory       DS  2008.0   \n",
              "1                                      The Munchables      Wii  2009.0   \n",
              "2      Otome wa Oanesama Boku ni Koi Shiteru Portable      PSP  2010.0   \n",
              "3                    Deal or No Deal: Special Edition       DS  2010.0   \n",
              "4           Ben 10 Ultimate Alien: Cosmic Destruction      PS3  2010.0   \n",
              "...                                               ...      ...     ...   \n",
              "16236                         Ice Age 2: The Meltdown       GC  2006.0   \n",
              "16237                     Rainbow Islands: Revolution      PSP  2005.0   \n",
              "16238                                        NBA 2K16      PS3  2015.0   \n",
              "16239                     Toukiden: The Age of Demons      PSV  2013.0   \n",
              "16240                        The King of Fighters '95       PS  1996.0   \n",
              "\n",
              "           Genre                    Publisher  NA_Sales  EU_Sales  JP_Sales  \\\n",
              "0         Action                    Destineer      0.04      0.00      0.00   \n",
              "1         Action           Namco Bandai Games      0.17      0.00      0.00   \n",
              "2      Adventure                    Alchemist      0.00      0.00      0.02   \n",
              "3           Misc                    Zoo Games      0.04      0.00      0.00   \n",
              "4       Platform                  D3Publisher      0.12      0.09      0.00   \n",
              "...          ...                          ...       ...       ...       ...   \n",
              "16236   Platform                Vivendi Games      0.15      0.04      0.00   \n",
              "16237     Action            Rising Star Games      0.01      0.00      0.00   \n",
              "16238     Sports         Take-Two Interactive      0.44      0.19      0.03   \n",
              "16239     Action                   Tecmo Koei      0.05      0.05      0.25   \n",
              "16240   Fighting  Sony Computer Entertainment      0.00      0.00      0.16   \n",
              "\n",
              "       Other_Sales  Total_sales  \n",
              "0             0.00         0.04  \n",
              "1             0.01         0.18  \n",
              "2             0.00         0.02  \n",
              "3             0.00         0.04  \n",
              "4             0.04         0.25  \n",
              "...            ...          ...  \n",
              "16236         0.01         0.20  \n",
              "16237         0.00         0.01  \n",
              "16238         0.13         0.79  \n",
              "16239         0.03         0.38  \n",
              "16240         0.01         0.17  \n",
              "\n",
              "[16240 rows x 10 columns]"
            ],
            "text/html": [
              "\n",
              "  <div id=\"df-08bcc235-af99-4d1e-b65b-5d837383de46\">\n",
              "    <div class=\"colab-df-container\">\n",
              "      <div>\n",
              "<style scoped>\n",
              "    .dataframe tbody tr th:only-of-type {\n",
              "        vertical-align: middle;\n",
              "    }\n",
              "\n",
              "    .dataframe tbody tr th {\n",
              "        vertical-align: top;\n",
              "    }\n",
              "\n",
              "    .dataframe thead th {\n",
              "        text-align: right;\n",
              "    }\n",
              "</style>\n",
              "<table border=\"1\" class=\"dataframe\">\n",
              "  <thead>\n",
              "    <tr style=\"text-align: right;\">\n",
              "      <th></th>\n",
              "      <th>Name</th>\n",
              "      <th>Platform</th>\n",
              "      <th>Year</th>\n",
              "      <th>Genre</th>\n",
              "      <th>Publisher</th>\n",
              "      <th>NA_Sales</th>\n",
              "      <th>EU_Sales</th>\n",
              "      <th>JP_Sales</th>\n",
              "      <th>Other_Sales</th>\n",
              "      <th>Total_sales</th>\n",
              "    </tr>\n",
              "  </thead>\n",
              "  <tbody>\n",
              "    <tr>\n",
              "      <th>0</th>\n",
              "      <td>Candace Kane's Candy Factory</td>\n",
              "      <td>DS</td>\n",
              "      <td>2008.0</td>\n",
              "      <td>Action</td>\n",
              "      <td>Destineer</td>\n",
              "      <td>0.04</td>\n",
              "      <td>0.00</td>\n",
              "      <td>0.00</td>\n",
              "      <td>0.00</td>\n",
              "      <td>0.04</td>\n",
              "    </tr>\n",
              "    <tr>\n",
              "      <th>1</th>\n",
              "      <td>The Munchables</td>\n",
              "      <td>Wii</td>\n",
              "      <td>2009.0</td>\n",
              "      <td>Action</td>\n",
              "      <td>Namco Bandai Games</td>\n",
              "      <td>0.17</td>\n",
              "      <td>0.00</td>\n",
              "      <td>0.00</td>\n",
              "      <td>0.01</td>\n",
              "      <td>0.18</td>\n",
              "    </tr>\n",
              "    <tr>\n",
              "      <th>2</th>\n",
              "      <td>Otome wa Oanesama Boku ni Koi Shiteru Portable</td>\n",
              "      <td>PSP</td>\n",
              "      <td>2010.0</td>\n",
              "      <td>Adventure</td>\n",
              "      <td>Alchemist</td>\n",
              "      <td>0.00</td>\n",
              "      <td>0.00</td>\n",
              "      <td>0.02</td>\n",
              "      <td>0.00</td>\n",
              "      <td>0.02</td>\n",
              "    </tr>\n",
              "    <tr>\n",
              "      <th>3</th>\n",
              "      <td>Deal or No Deal: Special Edition</td>\n",
              "      <td>DS</td>\n",
              "      <td>2010.0</td>\n",
              "      <td>Misc</td>\n",
              "      <td>Zoo Games</td>\n",
              "      <td>0.04</td>\n",
              "      <td>0.00</td>\n",
              "      <td>0.00</td>\n",
              "      <td>0.00</td>\n",
              "      <td>0.04</td>\n",
              "    </tr>\n",
              "    <tr>\n",
              "      <th>4</th>\n",
              "      <td>Ben 10 Ultimate Alien: Cosmic Destruction</td>\n",
              "      <td>PS3</td>\n",
              "      <td>2010.0</td>\n",
              "      <td>Platform</td>\n",
              "      <td>D3Publisher</td>\n",
              "      <td>0.12</td>\n",
              "      <td>0.09</td>\n",
              "      <td>0.00</td>\n",
              "      <td>0.04</td>\n",
              "      <td>0.25</td>\n",
              "    </tr>\n",
              "    <tr>\n",
              "      <th>...</th>\n",
              "      <td>...</td>\n",
              "      <td>...</td>\n",
              "      <td>...</td>\n",
              "      <td>...</td>\n",
              "      <td>...</td>\n",
              "      <td>...</td>\n",
              "      <td>...</td>\n",
              "      <td>...</td>\n",
              "      <td>...</td>\n",
              "      <td>...</td>\n",
              "    </tr>\n",
              "    <tr>\n",
              "      <th>16236</th>\n",
              "      <td>Ice Age 2: The Meltdown</td>\n",
              "      <td>GC</td>\n",
              "      <td>2006.0</td>\n",
              "      <td>Platform</td>\n",
              "      <td>Vivendi Games</td>\n",
              "      <td>0.15</td>\n",
              "      <td>0.04</td>\n",
              "      <td>0.00</td>\n",
              "      <td>0.01</td>\n",
              "      <td>0.20</td>\n",
              "    </tr>\n",
              "    <tr>\n",
              "      <th>16237</th>\n",
              "      <td>Rainbow Islands: Revolution</td>\n",
              "      <td>PSP</td>\n",
              "      <td>2005.0</td>\n",
              "      <td>Action</td>\n",
              "      <td>Rising Star Games</td>\n",
              "      <td>0.01</td>\n",
              "      <td>0.00</td>\n",
              "      <td>0.00</td>\n",
              "      <td>0.00</td>\n",
              "      <td>0.01</td>\n",
              "    </tr>\n",
              "    <tr>\n",
              "      <th>16238</th>\n",
              "      <td>NBA 2K16</td>\n",
              "      <td>PS3</td>\n",
              "      <td>2015.0</td>\n",
              "      <td>Sports</td>\n",
              "      <td>Take-Two Interactive</td>\n",
              "      <td>0.44</td>\n",
              "      <td>0.19</td>\n",
              "      <td>0.03</td>\n",
              "      <td>0.13</td>\n",
              "      <td>0.79</td>\n",
              "    </tr>\n",
              "    <tr>\n",
              "      <th>16239</th>\n",
              "      <td>Toukiden: The Age of Demons</td>\n",
              "      <td>PSV</td>\n",
              "      <td>2013.0</td>\n",
              "      <td>Action</td>\n",
              "      <td>Tecmo Koei</td>\n",
              "      <td>0.05</td>\n",
              "      <td>0.05</td>\n",
              "      <td>0.25</td>\n",
              "      <td>0.03</td>\n",
              "      <td>0.38</td>\n",
              "    </tr>\n",
              "    <tr>\n",
              "      <th>16240</th>\n",
              "      <td>The King of Fighters '95</td>\n",
              "      <td>PS</td>\n",
              "      <td>1996.0</td>\n",
              "      <td>Fighting</td>\n",
              "      <td>Sony Computer Entertainment</td>\n",
              "      <td>0.00</td>\n",
              "      <td>0.00</td>\n",
              "      <td>0.16</td>\n",
              "      <td>0.01</td>\n",
              "      <td>0.17</td>\n",
              "    </tr>\n",
              "  </tbody>\n",
              "</table>\n",
              "<p>16240 rows × 10 columns</p>\n",
              "</div>\n",
              "      <button class=\"colab-df-convert\" onclick=\"convertToInteractive('df-08bcc235-af99-4d1e-b65b-5d837383de46')\"\n",
              "              title=\"Convert this dataframe to an interactive table.\"\n",
              "              style=\"display:none;\">\n",
              "        \n",
              "  <svg xmlns=\"http://www.w3.org/2000/svg\" height=\"24px\"viewBox=\"0 0 24 24\"\n",
              "       width=\"24px\">\n",
              "    <path d=\"M0 0h24v24H0V0z\" fill=\"none\"/>\n",
              "    <path d=\"M18.56 5.44l.94 2.06.94-2.06 2.06-.94-2.06-.94-.94-2.06-.94 2.06-2.06.94zm-11 1L8.5 8.5l.94-2.06 2.06-.94-2.06-.94L8.5 2.5l-.94 2.06-2.06.94zm10 10l.94 2.06.94-2.06 2.06-.94-2.06-.94-.94-2.06-.94 2.06-2.06.94z\"/><path d=\"M17.41 7.96l-1.37-1.37c-.4-.4-.92-.59-1.43-.59-.52 0-1.04.2-1.43.59L10.3 9.45l-7.72 7.72c-.78.78-.78 2.05 0 2.83L4 21.41c.39.39.9.59 1.41.59.51 0 1.02-.2 1.41-.59l7.78-7.78 2.81-2.81c.8-.78.8-2.07 0-2.86zM5.41 20L4 18.59l7.72-7.72 1.47 1.35L5.41 20z\"/>\n",
              "  </svg>\n",
              "      </button>\n",
              "      \n",
              "  <style>\n",
              "    .colab-df-container {\n",
              "      display:flex;\n",
              "      flex-wrap:wrap;\n",
              "      gap: 12px;\n",
              "    }\n",
              "\n",
              "    .colab-df-convert {\n",
              "      background-color: #E8F0FE;\n",
              "      border: none;\n",
              "      border-radius: 50%;\n",
              "      cursor: pointer;\n",
              "      display: none;\n",
              "      fill: #1967D2;\n",
              "      height: 32px;\n",
              "      padding: 0 0 0 0;\n",
              "      width: 32px;\n",
              "    }\n",
              "\n",
              "    .colab-df-convert:hover {\n",
              "      background-color: #E2EBFA;\n",
              "      box-shadow: 0px 1px 2px rgba(60, 64, 67, 0.3), 0px 1px 3px 1px rgba(60, 64, 67, 0.15);\n",
              "      fill: #174EA6;\n",
              "    }\n",
              "\n",
              "    [theme=dark] .colab-df-convert {\n",
              "      background-color: #3B4455;\n",
              "      fill: #D2E3FC;\n",
              "    }\n",
              "\n",
              "    [theme=dark] .colab-df-convert:hover {\n",
              "      background-color: #434B5C;\n",
              "      box-shadow: 0px 1px 3px 1px rgba(0, 0, 0, 0.15);\n",
              "      filter: drop-shadow(0px 1px 2px rgba(0, 0, 0, 0.3));\n",
              "      fill: #FFFFFF;\n",
              "    }\n",
              "  </style>\n",
              "\n",
              "      <script>\n",
              "        const buttonEl =\n",
              "          document.querySelector('#df-08bcc235-af99-4d1e-b65b-5d837383de46 button.colab-df-convert');\n",
              "        buttonEl.style.display =\n",
              "          google.colab.kernel.accessAllowed ? 'block' : 'none';\n",
              "\n",
              "        async function convertToInteractive(key) {\n",
              "          const element = document.querySelector('#df-08bcc235-af99-4d1e-b65b-5d837383de46');\n",
              "          const dataTable =\n",
              "            await google.colab.kernel.invokeFunction('convertToInteractive',\n",
              "                                                     [key], {});\n",
              "          if (!dataTable) return;\n",
              "\n",
              "          const docLinkHtml = 'Like what you see? Visit the ' +\n",
              "            '<a target=\"_blank\" href=https://colab.research.google.com/notebooks/data_table.ipynb>data table notebook</a>'\n",
              "            + ' to learn more about interactive tables.';\n",
              "          element.innerHTML = '';\n",
              "          dataTable['output_type'] = 'display_data';\n",
              "          await google.colab.output.renderOutput(dataTable, element);\n",
              "          const docLink = document.createElement('div');\n",
              "          docLink.innerHTML = docLinkHtml;\n",
              "          element.appendChild(docLink);\n",
              "        }\n",
              "      </script>\n",
              "    </div>\n",
              "  </div>\n",
              "  "
            ]
          },
          "metadata": {},
          "execution_count": 294
        }
      ]
    }
  ]
}