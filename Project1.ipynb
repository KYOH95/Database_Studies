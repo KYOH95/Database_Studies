{
  "nbformat": 4,
  "nbformat_minor": 0,
  "metadata": {
    "colab": {
      "name": "Project1.ipynb",
      "provenance": [],
      "toc_visible": true,
      "authorship_tag": "ABX9TyPZ1WW/ZJsAbICx5bDS66/c",
      "include_colab_link": true
    },
    "kernelspec": {
      "name": "python3",
      "display_name": "Python 3"
    },
    "language_info": {
      "name": "python"
    }
  },
  "cells": [
    {
      "cell_type": "markdown",
      "metadata": {
        "id": "view-in-github",
        "colab_type": "text"
      },
      "source": [
        "<a href=\"https://colab.research.google.com/github/KYOH95/Database_Studies/blob/main/Project1.ipynb\" target=\"_parent\"><img src=\"https://colab.research.google.com/assets/colab-badge.svg\" alt=\"Open In Colab\"/></a>"
      ]
    },
    {
      "cell_type": "code",
      "execution_count": 68,
      "metadata": {
        "id": "gDR9s0Mz-SAR"
      },
      "outputs": [],
      "source": [
        "import pandas as pd\n",
        "import numpy as np\n",
        "import seaborn as sns\n",
        "import matplotlib.pyplot as plt"
      ]
    },
    {
      "cell_type": "code",
      "source": [
        "df_origin = pd.read_csv(\"https://ds-lecture-data.s3.ap-northeast-2.amazonaws.com/datasets/vgames2.csv\")\n",
        "df = df_origin\n",
        "\n",
        "print(\"결측치:\\n\",df.isnull().sum()) #결측치 확인\n",
        "\n",
        "df = df.dropna(axis = 0) #결측치가 포함된 모든 행 제거\n",
        "df = df.drop(df.columns[[0]], axis=1) #첫번째 열 제거\n",
        "df = df.reset_index(level=None, drop=True, inplace=False, col_level=0, col_fill='')\n",
        "\n",
        "print(\"원본 데이터:\",df_origin.shape)\n",
        "print(\"수정 데이터:\",df.shape)"
      ],
      "metadata": {
        "colab": {
          "base_uri": "https://localhost:8080/"
        },
        "id": "68VhuWdm-e8y",
        "outputId": "3b70f17a-1ad6-4712-806b-fc0cec2e0bb4"
      },
      "execution_count": 69,
      "outputs": [
        {
          "output_type": "stream",
          "name": "stdout",
          "text": [
            "결측치:\n",
            " Unnamed: 0       0\n",
            "Name             0\n",
            "Platform         0\n",
            "Year           271\n",
            "Genre           50\n",
            "Publisher       58\n",
            "NA_Sales         0\n",
            "EU_Sales         0\n",
            "JP_Sales         0\n",
            "Other_Sales      0\n",
            "dtype: int64\n",
            "원본 데이터: (16598, 10)\n",
            "수정 데이터: (16241, 9)\n"
          ]
        }
      ]
    },
    {
      "cell_type": "code",
      "source": [
        "#sales 값 object에서 float으로 타입 변경\n",
        "df['NA_Sales'] = pd.to_numeric(df['NA_Sales'],errors = 'coerce')\n",
        "df['EU_Sales'] = pd.to_numeric(df['EU_Sales'],errors = 'coerce')\n",
        "df['JP_Sales'] = pd.to_numeric(df['JP_Sales'],errors = 'coerce')\n",
        "df['Other_Sales'] = pd.to_numeric(df['Other_Sales'],errors = 'coerce')\n",
        "\n",
        "#Total_sales 칼럼을 새로 만든다.\n",
        "df['Total_sales'] = df['NA_Sales'] + df['EU_Sales'] + df['JP_Sales'] + df['Other_Sales']\n",
        "\n",
        "#Total_sales가 0인 행 제거\n",
        "condition = df[\"Total_sales\"]==0\n",
        "print(\"total_sales 0인 행:\\n\",df[condition])\n",
        "df.shape\n",
        "\n",
        "#Total Sales가 0인 데이터도 삭제\n",
        "df.drop(df.loc[df[\"Total_sales\"] == 0].index, inplace = True) \n",
        "df.shape"
      ],
      "metadata": {
        "colab": {
          "base_uri": "https://localhost:8080/"
        },
        "id": "3-5TzO0tINFZ",
        "outputId": "d6053ea3-0efa-4430-9c74-825444da7ad5"
      },
      "execution_count": 70,
      "outputs": [
        {
          "output_type": "stream",
          "name": "stdout",
          "text": [
            "total_sales 0인 행:\n",
            "                                                   Name Platform    Year  \\\n",
            "5483  SCORE International Baja 1000: The Official Game      PS2  2008.0   \n",
            "\n",
            "       Genre   Publisher  NA_Sales  EU_Sales  JP_Sales  Other_Sales  \\\n",
            "5483  Racing  Activision       0.0       0.0       0.0          0.0   \n",
            "\n",
            "      Total_sales  \n",
            "5483          0.0  \n"
          ]
        },
        {
          "output_type": "execute_result",
          "data": {
            "text/plain": [
              "(16240, 10)"
            ]
          },
          "metadata": {},
          "execution_count": 70
        }
      ]
    },
    {
      "cell_type": "code",
      "source": [
        ""
      ],
      "metadata": {
        "id": "aQyWMVaH-fBG"
      },
      "execution_count": 70,
      "outputs": []
    },
    {
      "cell_type": "code",
      "source": [
        ""
      ],
      "metadata": {
        "id": "hmqZZrQrA3SU"
      },
      "execution_count": 70,
      "outputs": []
    },
    {
      "cell_type": "code",
      "source": [
        ""
      ],
      "metadata": {
        "id": "upz4fcPGESNj"
      },
      "execution_count": 70,
      "outputs": []
    }
  ]
}