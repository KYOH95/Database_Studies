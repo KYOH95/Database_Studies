{
  "cells": [
    {
      "cell_type": "markdown",
      "metadata": {
        "id": "view-in-github",
        "colab_type": "text"
      },
      "source": [
        "<a href=\"https://colab.research.google.com/github/KYOH95/Database_Studies/blob/main/Cancer_EDA.ipynb\" target=\"_parent\"><img src=\"https://colab.research.google.com/assets/colab-badge.svg\" alt=\"Open In Colab\"/></a>"
      ]
    },
    {
      "cell_type": "code",
      "execution_count": 12,
      "id": "44d67e32",
      "metadata": {
        "id": "44d67e32"
      },
      "outputs": [],
      "source": [
        "import numpy as np \n",
        "import pandas as pd\n",
        "import matplotlib.pyplot as plt\n",
        "import sklearn\n",
        "from sklearn.preprocessing import StandardScaler\n",
        "\n",
        "from sklearn import tree\n",
        "from sklearn.model_selection import train_test_split\n",
        "from sklearn.metrics import confusion_matrix, classification_report\n",
        "from sklearn.metrics import mean_squared_error\n",
        "from sklearn import svm\n",
        "from sklearn import metrics\n",
        "from sklearn.ensemble import RandomForestClassifier\n",
        "from sklearn.datasets import load_iris\n",
        "from sklearn.linear_model import LogisticRegression"
      ]
    },
    {
      "cell_type": "markdown",
      "id": "25f070d1",
      "metadata": {
        "id": "25f070d1"
      },
      "source": [
        "## 데이터 불러오기"
      ]
    },
    {
      "cell_type": "code",
      "source": [
        "# from google.colab import files\n",
        "# files.upload()"
      ],
      "metadata": {
        "id": "VV4coIoUrno_"
      },
      "id": "VV4coIoUrno_",
      "execution_count": 13,
      "outputs": []
    },
    {
      "cell_type": "code",
      "execution_count": 14,
      "id": "06072c37",
      "metadata": {
        "colab": {
          "base_uri": "https://localhost:8080/",
          "height": 270
        },
        "id": "06072c37",
        "outputId": "e60844d2-4eab-4c26-e01d-a14a0b347d8d"
      },
      "outputs": [
        {
          "output_type": "execute_result",
          "data": {
            "text/plain": [
              "   id diagnosis_result  radius  texture  perimeter  area  smoothness  \\\n",
              "0   1                M      23       12        151   954       0.143   \n",
              "1   2                B       9       13        133  1326       0.143   \n",
              "2   3                M      21       27        130  1203       0.125   \n",
              "3   4                M      14       16         78   386       0.070   \n",
              "4   5                M       9       19        135  1297       0.141   \n",
              "\n",
              "   compactness  symmetry  fractal_dimension  \n",
              "0        0.278     0.242              0.079  \n",
              "1        0.079     0.181              0.057  \n",
              "2        0.160     0.207              0.060  \n",
              "3        0.284     0.260              0.097  \n",
              "4        0.133     0.181              0.059  "
            ],
            "text/html": [
              "\n",
              "  <div id=\"df-b245e856-2e17-4bfc-89ee-1b5fe4f9a068\">\n",
              "    <div class=\"colab-df-container\">\n",
              "      <div>\n",
              "<style scoped>\n",
              "    .dataframe tbody tr th:only-of-type {\n",
              "        vertical-align: middle;\n",
              "    }\n",
              "\n",
              "    .dataframe tbody tr th {\n",
              "        vertical-align: top;\n",
              "    }\n",
              "\n",
              "    .dataframe thead th {\n",
              "        text-align: right;\n",
              "    }\n",
              "</style>\n",
              "<table border=\"1\" class=\"dataframe\">\n",
              "  <thead>\n",
              "    <tr style=\"text-align: right;\">\n",
              "      <th></th>\n",
              "      <th>id</th>\n",
              "      <th>diagnosis_result</th>\n",
              "      <th>radius</th>\n",
              "      <th>texture</th>\n",
              "      <th>perimeter</th>\n",
              "      <th>area</th>\n",
              "      <th>smoothness</th>\n",
              "      <th>compactness</th>\n",
              "      <th>symmetry</th>\n",
              "      <th>fractal_dimension</th>\n",
              "    </tr>\n",
              "  </thead>\n",
              "  <tbody>\n",
              "    <tr>\n",
              "      <th>0</th>\n",
              "      <td>1</td>\n",
              "      <td>M</td>\n",
              "      <td>23</td>\n",
              "      <td>12</td>\n",
              "      <td>151</td>\n",
              "      <td>954</td>\n",
              "      <td>0.143</td>\n",
              "      <td>0.278</td>\n",
              "      <td>0.242</td>\n",
              "      <td>0.079</td>\n",
              "    </tr>\n",
              "    <tr>\n",
              "      <th>1</th>\n",
              "      <td>2</td>\n",
              "      <td>B</td>\n",
              "      <td>9</td>\n",
              "      <td>13</td>\n",
              "      <td>133</td>\n",
              "      <td>1326</td>\n",
              "      <td>0.143</td>\n",
              "      <td>0.079</td>\n",
              "      <td>0.181</td>\n",
              "      <td>0.057</td>\n",
              "    </tr>\n",
              "    <tr>\n",
              "      <th>2</th>\n",
              "      <td>3</td>\n",
              "      <td>M</td>\n",
              "      <td>21</td>\n",
              "      <td>27</td>\n",
              "      <td>130</td>\n",
              "      <td>1203</td>\n",
              "      <td>0.125</td>\n",
              "      <td>0.160</td>\n",
              "      <td>0.207</td>\n",
              "      <td>0.060</td>\n",
              "    </tr>\n",
              "    <tr>\n",
              "      <th>3</th>\n",
              "      <td>4</td>\n",
              "      <td>M</td>\n",
              "      <td>14</td>\n",
              "      <td>16</td>\n",
              "      <td>78</td>\n",
              "      <td>386</td>\n",
              "      <td>0.070</td>\n",
              "      <td>0.284</td>\n",
              "      <td>0.260</td>\n",
              "      <td>0.097</td>\n",
              "    </tr>\n",
              "    <tr>\n",
              "      <th>4</th>\n",
              "      <td>5</td>\n",
              "      <td>M</td>\n",
              "      <td>9</td>\n",
              "      <td>19</td>\n",
              "      <td>135</td>\n",
              "      <td>1297</td>\n",
              "      <td>0.141</td>\n",
              "      <td>0.133</td>\n",
              "      <td>0.181</td>\n",
              "      <td>0.059</td>\n",
              "    </tr>\n",
              "  </tbody>\n",
              "</table>\n",
              "</div>\n",
              "      <button class=\"colab-df-convert\" onclick=\"convertToInteractive('df-b245e856-2e17-4bfc-89ee-1b5fe4f9a068')\"\n",
              "              title=\"Convert this dataframe to an interactive table.\"\n",
              "              style=\"display:none;\">\n",
              "        \n",
              "  <svg xmlns=\"http://www.w3.org/2000/svg\" height=\"24px\"viewBox=\"0 0 24 24\"\n",
              "       width=\"24px\">\n",
              "    <path d=\"M0 0h24v24H0V0z\" fill=\"none\"/>\n",
              "    <path d=\"M18.56 5.44l.94 2.06.94-2.06 2.06-.94-2.06-.94-.94-2.06-.94 2.06-2.06.94zm-11 1L8.5 8.5l.94-2.06 2.06-.94-2.06-.94L8.5 2.5l-.94 2.06-2.06.94zm10 10l.94 2.06.94-2.06 2.06-.94-2.06-.94-.94-2.06-.94 2.06-2.06.94z\"/><path d=\"M17.41 7.96l-1.37-1.37c-.4-.4-.92-.59-1.43-.59-.52 0-1.04.2-1.43.59L10.3 9.45l-7.72 7.72c-.78.78-.78 2.05 0 2.83L4 21.41c.39.39.9.59 1.41.59.51 0 1.02-.2 1.41-.59l7.78-7.78 2.81-2.81c.8-.78.8-2.07 0-2.86zM5.41 20L4 18.59l7.72-7.72 1.47 1.35L5.41 20z\"/>\n",
              "  </svg>\n",
              "      </button>\n",
              "      \n",
              "  <style>\n",
              "    .colab-df-container {\n",
              "      display:flex;\n",
              "      flex-wrap:wrap;\n",
              "      gap: 12px;\n",
              "    }\n",
              "\n",
              "    .colab-df-convert {\n",
              "      background-color: #E8F0FE;\n",
              "      border: none;\n",
              "      border-radius: 50%;\n",
              "      cursor: pointer;\n",
              "      display: none;\n",
              "      fill: #1967D2;\n",
              "      height: 32px;\n",
              "      padding: 0 0 0 0;\n",
              "      width: 32px;\n",
              "    }\n",
              "\n",
              "    .colab-df-convert:hover {\n",
              "      background-color: #E2EBFA;\n",
              "      box-shadow: 0px 1px 2px rgba(60, 64, 67, 0.3), 0px 1px 3px 1px rgba(60, 64, 67, 0.15);\n",
              "      fill: #174EA6;\n",
              "    }\n",
              "\n",
              "    [theme=dark] .colab-df-convert {\n",
              "      background-color: #3B4455;\n",
              "      fill: #D2E3FC;\n",
              "    }\n",
              "\n",
              "    [theme=dark] .colab-df-convert:hover {\n",
              "      background-color: #434B5C;\n",
              "      box-shadow: 0px 1px 3px 1px rgba(0, 0, 0, 0.15);\n",
              "      filter: drop-shadow(0px 1px 2px rgba(0, 0, 0, 0.3));\n",
              "      fill: #FFFFFF;\n",
              "    }\n",
              "  </style>\n",
              "\n",
              "      <script>\n",
              "        const buttonEl =\n",
              "          document.querySelector('#df-b245e856-2e17-4bfc-89ee-1b5fe4f9a068 button.colab-df-convert');\n",
              "        buttonEl.style.display =\n",
              "          google.colab.kernel.accessAllowed ? 'block' : 'none';\n",
              "\n",
              "        async function convertToInteractive(key) {\n",
              "          const element = document.querySelector('#df-b245e856-2e17-4bfc-89ee-1b5fe4f9a068');\n",
              "          const dataTable =\n",
              "            await google.colab.kernel.invokeFunction('convertToInteractive',\n",
              "                                                     [key], {});\n",
              "          if (!dataTable) return;\n",
              "\n",
              "          const docLinkHtml = 'Like what you see? Visit the ' +\n",
              "            '<a target=\"_blank\" href=https://colab.research.google.com/notebooks/data_table.ipynb>data table notebook</a>'\n",
              "            + ' to learn more about interactive tables.';\n",
              "          element.innerHTML = '';\n",
              "          dataTable['output_type'] = 'display_data';\n",
              "          await google.colab.output.renderOutput(dataTable, element);\n",
              "          const docLink = document.createElement('div');\n",
              "          docLink.innerHTML = docLinkHtml;\n",
              "          element.appendChild(docLink);\n",
              "        }\n",
              "      </script>\n",
              "    </div>\n",
              "  </div>\n",
              "  "
            ]
          },
          "metadata": {},
          "execution_count": 14
        }
      ],
      "source": [
        "df = pd.read_csv('Data_for_Diagnosis_of_Prostate_Cancer.csv')\n",
        "df.head()"
      ]
    },
    {
      "cell_type": "code",
      "execution_count": 15,
      "id": "e6e72132",
      "metadata": {
        "colab": {
          "base_uri": "https://localhost:8080/"
        },
        "id": "e6e72132",
        "outputId": "b639eb60-84ee-4a9f-8703-dc03d89014ff"
      },
      "outputs": [
        {
          "output_type": "execute_result",
          "data": {
            "text/plain": [
              "(100, 10)"
            ]
          },
          "metadata": {},
          "execution_count": 15
        }
      ],
      "source": [
        "#데이터 사이즈 확인\n",
        "df.shape"
      ]
    },
    {
      "cell_type": "code",
      "execution_count": 16,
      "id": "19f5d412",
      "metadata": {
        "colab": {
          "base_uri": "https://localhost:8080/"
        },
        "id": "19f5d412",
        "outputId": "227193ef-a484-49ec-cb00-ef959064780c"
      },
      "outputs": [
        {
          "output_type": "execute_result",
          "data": {
            "text/plain": [
              "id                   0\n",
              "diagnosis_result     0\n",
              "radius               0\n",
              "texture              0\n",
              "perimeter            0\n",
              "area                 0\n",
              "smoothness           0\n",
              "compactness          0\n",
              "symmetry             0\n",
              "fractal_dimension    0\n",
              "dtype: int64"
            ]
          },
          "metadata": {},
          "execution_count": 16
        }
      ],
      "source": [
        "#결측치(nan, null)값 확인\n",
        "df.isnull().sum()"
      ]
    },
    {
      "cell_type": "code",
      "execution_count": 17,
      "id": "5563f4b2",
      "metadata": {
        "colab": {
          "base_uri": "https://localhost:8080/"
        },
        "id": "5563f4b2",
        "outputId": "72988477-4e63-4ca0-f120-3111c3a2ccbd"
      },
      "outputs": [
        {
          "output_type": "stream",
          "name": "stdout",
          "text": [
            "<class 'pandas.core.frame.DataFrame'>\n",
            "RangeIndex: 100 entries, 0 to 99\n",
            "Data columns (total 10 columns):\n",
            " #   Column             Non-Null Count  Dtype  \n",
            "---  ------             --------------  -----  \n",
            " 0   id                 100 non-null    int64  \n",
            " 1   diagnosis_result   100 non-null    object \n",
            " 2   radius             100 non-null    int64  \n",
            " 3   texture            100 non-null    int64  \n",
            " 4   perimeter          100 non-null    int64  \n",
            " 5   area               100 non-null    int64  \n",
            " 6   smoothness         100 non-null    float64\n",
            " 7   compactness        100 non-null    float64\n",
            " 8   symmetry           100 non-null    float64\n",
            " 9   fractal_dimension  100 non-null    float64\n",
            "dtypes: float64(4), int64(5), object(1)\n",
            "memory usage: 7.9+ KB\n"
          ]
        }
      ],
      "source": [
        "#데이터 타입 확인\n",
        "df.info()"
      ]
    },
    {
      "cell_type": "code",
      "execution_count": 18,
      "id": "9aa36a6e",
      "metadata": {
        "colab": {
          "base_uri": "https://localhost:8080/"
        },
        "id": "9aa36a6e",
        "outputId": "721b2198-6ad5-4295-e2c5-19df3109ccbb"
      },
      "outputs": [
        {
          "output_type": "stream",
          "name": "stdout",
          "text": [
            "M(1): 62\n",
            "B(0): 38\n"
          ]
        }
      ],
      "source": [
        "# M, B 값 확인\n",
        "print(\"M(1):\",np.sum(df['diagnosis_result']=='M'))\n",
        "print(\"B(0):\",np.sum(df['diagnosis_result']=='B'))"
      ]
    },
    {
      "cell_type": "code",
      "execution_count": 19,
      "id": "733cd33f",
      "metadata": {
        "id": "733cd33f"
      },
      "outputs": [],
      "source": [
        "# M=1, B=0 으로 바꾸기 (diagnosis_result (M = malignant, B = benign))\n",
        "df.diagnosis_result = df.diagnosis_result.replace('M', 1)\n",
        "df.diagnosis_result = df.diagnosis_result.replace('B', 0)"
      ]
    },
    {
      "cell_type": "code",
      "execution_count": 20,
      "id": "6000018c",
      "metadata": {
        "id": "6000018c"
      },
      "outputs": [],
      "source": [
        "#데이터 스케일링, 전처리\n",
        "target = df['diagnosis_result'] #알고리즘 \n",
        "features = df.loc[:, 'radius':'fractal_dimension']\n",
        "\n",
        "std_df = pd.DataFrame(StandardScaler().fit_transform(features))"
      ]
    },
    {
      "cell_type": "markdown",
      "id": "652f29bf",
      "metadata": {
        "id": "652f29bf"
      },
      "source": [
        "## Training set(80%) & Testing set(20%)"
      ]
    },
    {
      "cell_type": "code",
      "execution_count": 21,
      "id": "cc58396c",
      "metadata": {
        "id": "cc58396c"
      },
      "outputs": [],
      "source": [
        "#Train_test_split 8:2\n",
        "df_train, df_test, target_train, target_test = train_test_split(std_df, target, test_size = 0.2, random_state = 130 ) \n"
      ]
    },
    {
      "cell_type": "code",
      "execution_count": 21,
      "id": "46230e80",
      "metadata": {
        "id": "46230e80"
      },
      "outputs": [],
      "source": [
        ""
      ]
    },
    {
      "cell_type": "code",
      "execution_count": 22,
      "id": "69a9a3b8",
      "metadata": {
        "colab": {
          "base_uri": "https://localhost:8080/",
          "height": 206
        },
        "id": "69a9a3b8",
        "outputId": "8c6d7d7f-e776-4ee0-d1a6-9eaf709e22a0"
      },
      "outputs": [
        {
          "output_type": "execute_result",
          "data": {
            "text/plain": [
              "           0         1         2         3         4         5         6  \\\n",
              "43 -0.381079  0.536102 -0.415156 -0.496309  0.087175  0.284366  0.125038   \n",
              "93 -1.411022 -0.238053 -0.415156 -0.464873 -0.050109 -0.734749 -0.952312   \n",
              "41  0.442876  1.697335 -1.051898 -1.043292  1.391371 -0.077256 -0.103491   \n",
              "3  -0.587068 -0.431591 -0.797201 -0.996139 -2.246650  2.585594  2.181796   \n",
              "42 -1.205033 -1.399285  1.325273  1.260954 -0.805170  1.517167  1.235035   \n",
              "\n",
              "           7  \n",
              "43  0.408133  \n",
              "93 -0.948199  \n",
              "41  0.531435  \n",
              "3   3.983916  \n",
              "42 -0.208382  "
            ],
            "text/html": [
              "\n",
              "  <div id=\"df-671b2398-5973-4f98-b028-3060b60eb372\">\n",
              "    <div class=\"colab-df-container\">\n",
              "      <div>\n",
              "<style scoped>\n",
              "    .dataframe tbody tr th:only-of-type {\n",
              "        vertical-align: middle;\n",
              "    }\n",
              "\n",
              "    .dataframe tbody tr th {\n",
              "        vertical-align: top;\n",
              "    }\n",
              "\n",
              "    .dataframe thead th {\n",
              "        text-align: right;\n",
              "    }\n",
              "</style>\n",
              "<table border=\"1\" class=\"dataframe\">\n",
              "  <thead>\n",
              "    <tr style=\"text-align: right;\">\n",
              "      <th></th>\n",
              "      <th>0</th>\n",
              "      <th>1</th>\n",
              "      <th>2</th>\n",
              "      <th>3</th>\n",
              "      <th>4</th>\n",
              "      <th>5</th>\n",
              "      <th>6</th>\n",
              "      <th>7</th>\n",
              "    </tr>\n",
              "  </thead>\n",
              "  <tbody>\n",
              "    <tr>\n",
              "      <th>43</th>\n",
              "      <td>-0.381079</td>\n",
              "      <td>0.536102</td>\n",
              "      <td>-0.415156</td>\n",
              "      <td>-0.496309</td>\n",
              "      <td>0.087175</td>\n",
              "      <td>0.284366</td>\n",
              "      <td>0.125038</td>\n",
              "      <td>0.408133</td>\n",
              "    </tr>\n",
              "    <tr>\n",
              "      <th>93</th>\n",
              "      <td>-1.411022</td>\n",
              "      <td>-0.238053</td>\n",
              "      <td>-0.415156</td>\n",
              "      <td>-0.464873</td>\n",
              "      <td>-0.050109</td>\n",
              "      <td>-0.734749</td>\n",
              "      <td>-0.952312</td>\n",
              "      <td>-0.948199</td>\n",
              "    </tr>\n",
              "    <tr>\n",
              "      <th>41</th>\n",
              "      <td>0.442876</td>\n",
              "      <td>1.697335</td>\n",
              "      <td>-1.051898</td>\n",
              "      <td>-1.043292</td>\n",
              "      <td>1.391371</td>\n",
              "      <td>-0.077256</td>\n",
              "      <td>-0.103491</td>\n",
              "      <td>0.531435</td>\n",
              "    </tr>\n",
              "    <tr>\n",
              "      <th>3</th>\n",
              "      <td>-0.587068</td>\n",
              "      <td>-0.431591</td>\n",
              "      <td>-0.797201</td>\n",
              "      <td>-0.996139</td>\n",
              "      <td>-2.246650</td>\n",
              "      <td>2.585594</td>\n",
              "      <td>2.181796</td>\n",
              "      <td>3.983916</td>\n",
              "    </tr>\n",
              "    <tr>\n",
              "      <th>42</th>\n",
              "      <td>-1.205033</td>\n",
              "      <td>-1.399285</td>\n",
              "      <td>1.325273</td>\n",
              "      <td>1.260954</td>\n",
              "      <td>-0.805170</td>\n",
              "      <td>1.517167</td>\n",
              "      <td>1.235035</td>\n",
              "      <td>-0.208382</td>\n",
              "    </tr>\n",
              "  </tbody>\n",
              "</table>\n",
              "</div>\n",
              "      <button class=\"colab-df-convert\" onclick=\"convertToInteractive('df-671b2398-5973-4f98-b028-3060b60eb372')\"\n",
              "              title=\"Convert this dataframe to an interactive table.\"\n",
              "              style=\"display:none;\">\n",
              "        \n",
              "  <svg xmlns=\"http://www.w3.org/2000/svg\" height=\"24px\"viewBox=\"0 0 24 24\"\n",
              "       width=\"24px\">\n",
              "    <path d=\"M0 0h24v24H0V0z\" fill=\"none\"/>\n",
              "    <path d=\"M18.56 5.44l.94 2.06.94-2.06 2.06-.94-2.06-.94-.94-2.06-.94 2.06-2.06.94zm-11 1L8.5 8.5l.94-2.06 2.06-.94-2.06-.94L8.5 2.5l-.94 2.06-2.06.94zm10 10l.94 2.06.94-2.06 2.06-.94-2.06-.94-.94-2.06-.94 2.06-2.06.94z\"/><path d=\"M17.41 7.96l-1.37-1.37c-.4-.4-.92-.59-1.43-.59-.52 0-1.04.2-1.43.59L10.3 9.45l-7.72 7.72c-.78.78-.78 2.05 0 2.83L4 21.41c.39.39.9.59 1.41.59.51 0 1.02-.2 1.41-.59l7.78-7.78 2.81-2.81c.8-.78.8-2.07 0-2.86zM5.41 20L4 18.59l7.72-7.72 1.47 1.35L5.41 20z\"/>\n",
              "  </svg>\n",
              "      </button>\n",
              "      \n",
              "  <style>\n",
              "    .colab-df-container {\n",
              "      display:flex;\n",
              "      flex-wrap:wrap;\n",
              "      gap: 12px;\n",
              "    }\n",
              "\n",
              "    .colab-df-convert {\n",
              "      background-color: #E8F0FE;\n",
              "      border: none;\n",
              "      border-radius: 50%;\n",
              "      cursor: pointer;\n",
              "      display: none;\n",
              "      fill: #1967D2;\n",
              "      height: 32px;\n",
              "      padding: 0 0 0 0;\n",
              "      width: 32px;\n",
              "    }\n",
              "\n",
              "    .colab-df-convert:hover {\n",
              "      background-color: #E2EBFA;\n",
              "      box-shadow: 0px 1px 2px rgba(60, 64, 67, 0.3), 0px 1px 3px 1px rgba(60, 64, 67, 0.15);\n",
              "      fill: #174EA6;\n",
              "    }\n",
              "\n",
              "    [theme=dark] .colab-df-convert {\n",
              "      background-color: #3B4455;\n",
              "      fill: #D2E3FC;\n",
              "    }\n",
              "\n",
              "    [theme=dark] .colab-df-convert:hover {\n",
              "      background-color: #434B5C;\n",
              "      box-shadow: 0px 1px 3px 1px rgba(0, 0, 0, 0.15);\n",
              "      filter: drop-shadow(0px 1px 2px rgba(0, 0, 0, 0.3));\n",
              "      fill: #FFFFFF;\n",
              "    }\n",
              "  </style>\n",
              "\n",
              "      <script>\n",
              "        const buttonEl =\n",
              "          document.querySelector('#df-671b2398-5973-4f98-b028-3060b60eb372 button.colab-df-convert');\n",
              "        buttonEl.style.display =\n",
              "          google.colab.kernel.accessAllowed ? 'block' : 'none';\n",
              "\n",
              "        async function convertToInteractive(key) {\n",
              "          const element = document.querySelector('#df-671b2398-5973-4f98-b028-3060b60eb372');\n",
              "          const dataTable =\n",
              "            await google.colab.kernel.invokeFunction('convertToInteractive',\n",
              "                                                     [key], {});\n",
              "          if (!dataTable) return;\n",
              "\n",
              "          const docLinkHtml = 'Like what you see? Visit the ' +\n",
              "            '<a target=\"_blank\" href=https://colab.research.google.com/notebooks/data_table.ipynb>data table notebook</a>'\n",
              "            + ' to learn more about interactive tables.';\n",
              "          element.innerHTML = '';\n",
              "          dataTable['output_type'] = 'display_data';\n",
              "          await google.colab.output.renderOutput(dataTable, element);\n",
              "          const docLink = document.createElement('div');\n",
              "          docLink.innerHTML = docLinkHtml;\n",
              "          element.appendChild(docLink);\n",
              "        }\n",
              "      </script>\n",
              "    </div>\n",
              "  </div>\n",
              "  "
            ]
          },
          "metadata": {},
          "execution_count": 22
        }
      ],
      "source": [
        "# checking\n",
        "df_train.head() \n",
        "df_test.head()"
      ]
    },
    {
      "cell_type": "code",
      "execution_count": 23,
      "id": "31d2de23",
      "metadata": {
        "id": "31d2de23"
      },
      "outputs": [],
      "source": [
        "#Accuracy 구하는 함수\n",
        "def accuracy(confusion_matrix):\n",
        "    diagonal_sum = confusion_matrix.trace()\n",
        "    sum_of_all_elements = confusion_matrix.sum()\n",
        "    return diagonal_sum/sum_of_all_elements"
      ]
    },
    {
      "cell_type": "markdown",
      "id": "e5eea6a1",
      "metadata": {
        "id": "e5eea6a1"
      },
      "source": [
        "## Decision Tree"
      ]
    },
    {
      "cell_type": "code",
      "execution_count": 24,
      "id": "357a4418",
      "metadata": {
        "id": "357a4418"
      },
      "outputs": [],
      "source": [
        "#Decision Tree algorithm \"Classifier_DT\"이름으로 선언\n",
        "Classifier_DT = tree.DecisionTreeClassifier()\n",
        "\n",
        "#trainning set을 이용해서 Classifier_DT 학습시키기\n",
        "Classifier_DT.fit(df_train, target_train)\n",
        "\n",
        "#test set과 학습된 \"Classifier_DT\"을 이용해서 예상 결과 값 가져오기\n",
        "target_predictions_DT = Classifier_DT.predict(df_test) "
      ]
    },
    {
      "cell_type": "code",
      "execution_count": 25,
      "id": "b0eed397",
      "metadata": {
        "colab": {
          "base_uri": "https://localhost:8080/"
        },
        "id": "b0eed397",
        "outputId": "28e2e6d3-0b42-4123-b66e-39f2b68ac1dd"
      },
      "outputs": [
        {
          "output_type": "stream",
          "name": "stdout",
          "text": [
            "              precision    recall  f1-score   support\n",
            "\n",
            "           0       0.50      0.38      0.43         8\n",
            "           1       0.64      0.75      0.69        12\n",
            "\n",
            "    accuracy                           0.60        20\n",
            "   macro avg       0.57      0.56      0.56        20\n",
            "weighted avg       0.59      0.60      0.59        20\n",
            "\n"
          ]
        }
      ],
      "source": [
        "#Confucion Matrix\n",
        "CM_DT = confusion_matrix(target_predictions_DT, target_test)\n",
        "print(classification_report(target_predictions_DT, target_test))"
      ]
    },
    {
      "cell_type": "code",
      "execution_count": 26,
      "id": "02994584",
      "metadata": {
        "colab": {
          "base_uri": "https://localhost:8080/"
        },
        "id": "02994584",
        "outputId": "518bea6f-c2db-47b5-f964-ce632659425c"
      },
      "outputs": [
        {
          "output_type": "stream",
          "name": "stdout",
          "text": [
            "[[3 5]\n",
            " [3 9]]\n",
            "0.6\n"
          ]
        }
      ],
      "source": [
        "Accracy_DT = accuracy(CM_DT)\n",
        "print(CM_DT)\n",
        "print(Accracy_DT)"
      ]
    },
    {
      "cell_type": "markdown",
      "id": "ed0a2a91",
      "metadata": {
        "id": "ed0a2a91"
      },
      "source": [
        "## Support Vector Machine"
      ]
    },
    {
      "cell_type": "code",
      "execution_count": 27,
      "id": "a359d2fa",
      "metadata": {
        "id": "a359d2fa"
      },
      "outputs": [],
      "source": [
        "#SVM 모델 \"Classifier_SVM\"이름으로 선언\n",
        "Classifier_SVM = svm.SVC()\n",
        "\n",
        "#trainning set을 이용해서 Classifier_SVM 학습시키기\n",
        "Classifier_SVM.fit(df_train, target_train)\n",
        "\n",
        "#test set과 학습된 \"Classifier_SVM\"을 이용해서 예상 결과 값 가져오기\n",
        "target_predictions_SVM = Classifier_SVM.predict(df_test)\n"
      ]
    },
    {
      "cell_type": "code",
      "execution_count": 28,
      "id": "9aca54c7",
      "metadata": {
        "colab": {
          "base_uri": "https://localhost:8080/"
        },
        "id": "9aca54c7",
        "outputId": "7c2b1e52-0380-42f0-921e-00d79601355d"
      },
      "outputs": [
        {
          "output_type": "stream",
          "name": "stdout",
          "text": [
            "              precision    recall  f1-score   support\n",
            "\n",
            "           0       0.67      0.50      0.57         8\n",
            "           1       0.71      0.83      0.77        12\n",
            "\n",
            "    accuracy                           0.70        20\n",
            "   macro avg       0.69      0.67      0.67        20\n",
            "weighted avg       0.70      0.70      0.69        20\n",
            "\n"
          ]
        }
      ],
      "source": [
        "#Confucion Matrix\n",
        "CM_SVM = confusion_matrix(target_predictions_SVM, target_test)\n",
        "print(classification_report(target_predictions_SVM, target_test))"
      ]
    },
    {
      "cell_type": "code",
      "execution_count": 29,
      "id": "787ebeb7",
      "metadata": {
        "colab": {
          "base_uri": "https://localhost:8080/"
        },
        "id": "787ebeb7",
        "outputId": "1a24fdd0-4ab9-4a66-a20b-3221e9a5f4b3"
      },
      "outputs": [
        {
          "output_type": "stream",
          "name": "stdout",
          "text": [
            "[[ 4  4]\n",
            " [ 2 10]]\n",
            "0.7\n"
          ]
        }
      ],
      "source": [
        "Accracy_SVM = accuracy(CM_SVM)\n",
        "print(CM_SVM)\n",
        "print(Accracy_SVM)"
      ]
    },
    {
      "cell_type": "markdown",
      "id": "4ab74b03",
      "metadata": {
        "id": "4ab74b03"
      },
      "source": [
        "## Random Forest"
      ]
    },
    {
      "cell_type": "code",
      "execution_count": 30,
      "id": "293e5d94",
      "metadata": {
        "id": "293e5d94"
      },
      "outputs": [],
      "source": [
        "#random forest 모델을 \"Classifier_RF\"이름으로 선언\n",
        "Classifier_RF = RandomForestClassifier()\n",
        "\n",
        "#trainning set을 이용해서 Classifier_RF 학습시키기\n",
        "Classifier_RF.fit(df_train, target_train)\n",
        "\n",
        "#test set과 학습된 \"Classifier_RF\"을 이용해서 예상 결과 값 가져오기\n",
        "target_predictions_RF = Classifier_RF.predict(df_test)\n"
      ]
    },
    {
      "cell_type": "code",
      "execution_count": 31,
      "id": "042cbbef",
      "metadata": {
        "colab": {
          "base_uri": "https://localhost:8080/"
        },
        "id": "042cbbef",
        "outputId": "0f1ca72b-7a79-4b85-cce4-a226f911dc3c"
      },
      "outputs": [
        {
          "output_type": "stream",
          "name": "stdout",
          "text": [
            "              precision    recall  f1-score   support\n",
            "\n",
            "           0       0.83      0.56      0.67         9\n",
            "           1       0.71      0.91      0.80        11\n",
            "\n",
            "    accuracy                           0.75        20\n",
            "   macro avg       0.77      0.73      0.73        20\n",
            "weighted avg       0.77      0.75      0.74        20\n",
            "\n"
          ]
        }
      ],
      "source": [
        "#Confucion Matrix\n",
        "CM_RF = confusion_matrix(target_predictions_RF, target_test)\n",
        "print(classification_report(target_predictions_RF, target_test))"
      ]
    },
    {
      "cell_type": "code",
      "execution_count": 32,
      "id": "547305f1",
      "metadata": {
        "colab": {
          "base_uri": "https://localhost:8080/"
        },
        "id": "547305f1",
        "outputId": "f1c14896-bbd4-434b-9f6d-b4fa9d9aa49d"
      },
      "outputs": [
        {
          "output_type": "stream",
          "name": "stdout",
          "text": [
            "[[ 5  4]\n",
            " [ 1 10]]\n",
            "0.75\n"
          ]
        }
      ],
      "source": [
        "Accracy_RF = accuracy(CM_RF)\n",
        "print(CM_RF)\n",
        "print(Accracy_RF)"
      ]
    },
    {
      "cell_type": "markdown",
      "id": "8b9ad7c5",
      "metadata": {
        "id": "8b9ad7c5"
      },
      "source": [
        "## Logistic Regression"
      ]
    },
    {
      "cell_type": "code",
      "execution_count": 33,
      "id": "60aa15d6",
      "metadata": {
        "id": "60aa15d6"
      },
      "outputs": [],
      "source": [
        "#logistic regression 모델을 \"Classifier_LR\"이름으로 선언\n",
        "Classifier_LR = LogisticRegression()\n",
        "\n",
        "#trainning set을 이용해서 Classifier_LR 학습시키기\n",
        "Classifier_LR.fit(df_train, target_train)\n",
        "\n",
        "#test set과 학습된 \"Classifier_LR\"을 이용해서 예상 결과 값 가져오기\n",
        "target_predictions_LR = Classifier_LR.predict(df_test)\n"
      ]
    },
    {
      "cell_type": "code",
      "execution_count": 34,
      "id": "cc5a334a",
      "metadata": {
        "colab": {
          "base_uri": "https://localhost:8080/"
        },
        "id": "cc5a334a",
        "outputId": "0f5adbbf-82fc-4471-e2b0-6e99d0a07772"
      },
      "outputs": [
        {
          "output_type": "stream",
          "name": "stdout",
          "text": [
            "              precision    recall  f1-score   support\n",
            "\n",
            "           0       0.83      0.71      0.77         7\n",
            "           1       0.86      0.92      0.89        13\n",
            "\n",
            "    accuracy                           0.85        20\n",
            "   macro avg       0.85      0.82      0.83        20\n",
            "weighted avg       0.85      0.85      0.85        20\n",
            "\n"
          ]
        }
      ],
      "source": [
        "#Confucion Matrix\n",
        "CM_LR = confusion_matrix(target_predictions_LR, target_test)\n",
        "print(classification_report(target_predictions_LR, target_test))"
      ]
    },
    {
      "cell_type": "code",
      "execution_count": 35,
      "id": "e464111e",
      "metadata": {
        "colab": {
          "base_uri": "https://localhost:8080/"
        },
        "id": "e464111e",
        "outputId": "9846cea5-abf7-4c90-8208-393aba45ae75"
      },
      "outputs": [
        {
          "output_type": "stream",
          "name": "stdout",
          "text": [
            "[[ 5  2]\n",
            " [ 1 12]]\n",
            "0.85\n"
          ]
        }
      ],
      "source": [
        "Accracy_LR = accuracy(CM_LR)\n",
        "print(CM_LR)\n",
        "print(Accracy_LR)"
      ]
    },
    {
      "cell_type": "markdown",
      "id": "5edadcbe",
      "metadata": {
        "id": "5edadcbe"
      },
      "source": [
        "## ROC curve & Accuracy 비교"
      ]
    },
    {
      "cell_type": "code",
      "execution_count": 36,
      "id": "1e792935",
      "metadata": {
        "id": "1e792935"
      },
      "outputs": [],
      "source": [
        "from sklearn.metrics import roc_curve\n",
        "\n",
        "def plot_roc_curve(fpr1, tpr1, fpr2, tpr2, fpr3, tpr3, fpr4, tpr4):\n",
        "    plt.plot(fpr1, tpr1, color='red', label='Decision Tree')\n",
        "    plt.plot(fpr2, tpr2, color='blue', label='Support Vector Machine')\n",
        "    plt.plot(fpr3, tpr3, color='purple', label='Ramdon Foreest')\n",
        "    plt.plot(fpr4, tpr4, color='green', label='Logistic Regression')\n",
        "    \n",
        "    plt.plot([0, 1], [0, 1], color='black', linestyle='--')\n",
        "    plt.xlabel('False Positive Rate')\n",
        "    plt.ylabel('True Positive Rate')\n",
        "    plt.title('ROC CURVE')\n",
        "    plt.legend()\n",
        "    plt.show()"
      ]
    },
    {
      "cell_type": "code",
      "execution_count": 37,
      "id": "cc2b51c9",
      "metadata": {
        "id": "cc2b51c9"
      },
      "outputs": [],
      "source": [
        "fpr_DT, tpr_DT, thresholds_DT = metrics.roc_curve(target_test, target_predictions_DT)\n",
        "fpr_SVM, tpr_SVM, thresholds_SVM = metrics.roc_curve(target_test, target_predictions_SVM)\n",
        "fpr_RF, tpr_RF, thresholds_RF = metrics.roc_curve(target_test, target_predictions_RF)\n",
        "fpr_LR, tpr_LR, thresholds_LR = metrics.roc_curve(target_test, target_predictions_LR)"
      ]
    },
    {
      "cell_type": "code",
      "execution_count": 38,
      "id": "8d2d7265",
      "metadata": {
        "colab": {
          "base_uri": "https://localhost:8080/",
          "height": 295
        },
        "id": "8d2d7265",
        "outputId": "774ca355-ed98-4b1d-fb69-0ccd7f58da3f"
      },
      "outputs": [
        {
          "output_type": "display_data",
          "data": {
            "text/plain": [
              "<Figure size 432x288 with 1 Axes>"
            ],
            "image/png": "[encoded data removed]"
          },
          "metadata": {
            "needs_background": "light"
          }
        }
      ],
      "source": [
        "plot_roc_curve(fpr_DT, tpr_DT, fpr_SVM, tpr_SVM, fpr_RF, tpr_RF, fpr_LR, tpr_LR)"
      ]
    },
    {
      "cell_type": "code",
      "execution_count": 39,
      "id": "bc969228",
      "metadata": {
        "colab": {
          "base_uri": "https://localhost:8080/"
        },
        "id": "bc969228",
        "outputId": "24a64ea9-bd1e-4e48-a156-0dd34fddee74"
      },
      "outputs": [
        {
          "output_type": "stream",
          "name": "stdout",
          "text": [
            "Decision Tree Accuracy:\t\t 0.6\n",
            "Support Vector Machine Accuracy: 0.7\n",
            "Random Forest Accuracy:\t\t 0.75\n",
            "Logistic Regression Accuracy:\t 0.85\n"
          ]
        }
      ],
      "source": [
        "print(\"Decision Tree Accuracy:\\t\\t\", Accracy_DT)\n",
        "print(\"Support Vector Machine Accuracy:\", Accracy_SVM)\n",
        "print(\"Random Forest Accuracy:\\t\\t\", Accracy_RF)\n",
        "print(\"Logistic Regression Accuracy:\\t\", Accracy_LR)"
      ]
    },
    {
      "cell_type": "markdown",
      "id": "058b9f0b",
      "metadata": {
        "id": "058b9f0b"
      },
      "source": [
        "## 가장 높은 정확도\n",
        "\n",
        "예) Logistic Regression 모델이 가장 높은 Accuracy를 보여준다"
      ]
    }
  ],
  "metadata": {
    "kernelspec": {
      "display_name": "Python 3 (ipykernel)",
      "language": "python",
      "name": "python3"
    },
    "language_info": {
      "codemirror_mode": {
        "name": "ipython",
        "version": 3
      },
      "file_extension": ".py",
      "mimetype": "text/x-python",
      "name": "python",
      "nbconvert_exporter": "python",
      "pygments_lexer": "ipython3",
      "version": "3.9.7"
    },
    "colab": {
      "name": "Cancer_EDA.ipynb",
      "provenance": [],
      "toc_visible": true,
      "include_colab_link": true
    }
  },
  "nbformat": 4,
  "nbformat_minor": 5
}