{
  "nbformat": 4,
  "nbformat_minor": 0,
  "metadata": {
    "colab": {
      "provenance": [],
      "toc_visible": true,
      "authorship_tag": "ABX9TyOPLYCEvwyOxA1zNZ3EZYQC",
      "include_colab_link": true
    },
    "kernelspec": {
      "name": "python3",
      "display_name": "Python 3"
    },
    "language_info": {
      "name": "python"
    }
  },
  "cells": [
    {
      "cell_type": "markdown",
      "metadata": {
        "id": "view-in-github",
        "colab_type": "text"
      },
      "source": [
        "<a href=\"https://colab.research.google.com/github/KYOH95/Database_Studies/blob/main/project4.ipynb\" target=\"_parent\"><img src=\"https://colab.research.google.com/assets/colab-badge.svg\" alt=\"Open In Colab\"/></a>"
      ]
    },
    {
      "cell_type": "markdown",
      "source": [
        "## 0. 구글 드라이브로부터 데이터 불러오기"
      ],
      "metadata": {
        "id": "bnVx0jmO9ZD6"
      }
    },
    {
      "cell_type": "code",
      "execution_count": 68,
      "metadata": {
        "colab": {
          "base_uri": "https://localhost:8080/"
        },
        "id": "WkTc_zFF4T7M",
        "outputId": "92ce4c67-7edb-42d1-aabb-8afcdf352845"
      },
      "outputs": [
        {
          "output_type": "stream",
          "name": "stdout",
          "text": [
            "Drive already mounted at /content/drive; to attempt to forcibly remount, call drive.mount(\"/content/drive\", force_remount=True).\n"
          ]
        }
      ],
      "source": [
        "from google.colab import drive\n",
        "drive.mount('/content/drive')"
      ]
    },
    {
      "cell_type": "code",
      "source": [
        "import pandas as pd\n",
        "import os\n",
        "\n",
        "#데이터 세트(캐글): https://www.kaggle.com/datasets/extralime/20000-boardgames-dataset\n",
        "dir = './drive/MyDrive/Project4'\n",
        "filename = os.listdir(dir)\n",
        "\n",
        "csv_path = os.path.join(dir, filename[0])\n",
        "df = pd.read_csv(csv_path)\n",
        "df.head(3)"
      ],
      "metadata": {
        "colab": {
          "base_uri": "https://localhost:8080/",
          "height": 498
        },
        "id": "NjOObZh66Frl",
        "outputId": "1a2d2605-5b54-45e5-d0f8-96f06a7818ff"
      },
      "execution_count": 69,
      "outputs": [
        {
          "output_type": "stream",
          "name": "stderr",
          "text": [
            "/usr/local/lib/python3.7/dist-packages/IPython/core/interactiveshell.py:3326: DtypeWarning: Columns (29,48) have mixed types.Specify dtype option on import or set low_memory=False.\n",
            "  exec(code_obj, self.user_global_ns, self.user_ns)\n"
          ]
        },
        {
          "output_type": "execute_result",
          "data": {
            "text/plain": [
              "   Unnamed: 0       type     id  \\\n",
              "0           0  boardgame  30549   \n",
              "1           1  boardgame    822   \n",
              "2           2  boardgame     13   \n",
              "\n",
              "                                           thumbnail  \\\n",
              "0  https://cf.geekdo-images.com/S3ybV1LAp-8SnHIXL...   \n",
              "1  https://cf.geekdo-images.com/okM0dq_bEXnbyQTOv...   \n",
              "2  https://cf.geekdo-images.com/W3Bsga_uLP9kO91gZ...   \n",
              "\n",
              "                                               image      primary  \\\n",
              "0  https://cf.geekdo-images.com/S3ybV1LAp-8SnHIXL...     Pandemic   \n",
              "1  https://cf.geekdo-images.com/okM0dq_bEXnbyQTOv...  Carcassonne   \n",
              "2  https://cf.geekdo-images.com/W3Bsga_uLP9kO91gZ...        Catan   \n",
              "\n",
              "                                           alternate  \\\n",
              "0  ['EPIZOotic', 'Pandemia', 'Pandemia 10 Anivers...   \n",
              "1  ['Carcassonne Jubilee Edition', 'Carcassonne: ...   \n",
              "2  ['CATAN', 'Catan (Колонизаторы)', 'Catan telep...   \n",
              "\n",
              "                                         description  yearpublished  \\\n",
              "0  In Pandemic, several virulent diseases have br...           2008   \n",
              "1  Carcassonne is a tile-placement game in which ...           2000   \n",
              "2  In CATAN (formerly The Settlers of Catan), pla...           1995   \n",
              "\n",
              "   minplayers  ...  War Game Rank Customizable Rank Children's Game Rank  \\\n",
              "0           2  ...            NaN               NaN                  NaN   \n",
              "1           2  ...            NaN               NaN                  NaN   \n",
              "2           3  ...            NaN               NaN                  NaN   \n",
              "\n",
              "  RPG Item Rank  Accessory Rank  Video Game Rank  Amiga Rank  \\\n",
              "0           NaN             NaN              NaN         NaN   \n",
              "1           NaN             NaN              NaN         NaN   \n",
              "2           NaN             NaN              NaN         NaN   \n",
              "\n",
              "   Commodore 64 Rank Arcade Rank Atari ST Rank  \n",
              "0                NaN         NaN           NaN  \n",
              "1                NaN         NaN           NaN  \n",
              "2                NaN         NaN           NaN  \n",
              "\n",
              "[3 rows x 56 columns]"
            ],
            "text/html": [
              "\n",
              "  <div id=\"df-5b5812e8-900a-4542-bcc0-3edb4d12f649\">\n",
              "    <div class=\"colab-df-container\">\n",
              "      <div>\n",
              "<style scoped>\n",
              "    .dataframe tbody tr th:only-of-type {\n",
              "        vertical-align: middle;\n",
              "    }\n",
              "\n",
              "    .dataframe tbody tr th {\n",
              "        vertical-align: top;\n",
              "    }\n",
              "\n",
              "    .dataframe thead th {\n",
              "        text-align: right;\n",
              "    }\n",
              "</style>\n",
              "<table border=\"1\" class=\"dataframe\">\n",
              "  <thead>\n",
              "    <tr style=\"text-align: right;\">\n",
              "      <th></th>\n",
              "      <th>Unnamed: 0</th>\n",
              "      <th>type</th>\n",
              "      <th>id</th>\n",
              "      <th>thumbnail</th>\n",
              "      <th>image</th>\n",
              "      <th>primary</th>\n",
              "      <th>alternate</th>\n",
              "      <th>description</th>\n",
              "      <th>yearpublished</th>\n",
              "      <th>minplayers</th>\n",
              "      <th>...</th>\n",
              "      <th>War Game Rank</th>\n",
              "      <th>Customizable Rank</th>\n",
              "      <th>Children's Game Rank</th>\n",
              "      <th>RPG Item Rank</th>\n",
              "      <th>Accessory Rank</th>\n",
              "      <th>Video Game Rank</th>\n",
              "      <th>Amiga Rank</th>\n",
              "      <th>Commodore 64 Rank</th>\n",
              "      <th>Arcade Rank</th>\n",
              "      <th>Atari ST Rank</th>\n",
              "    </tr>\n",
              "  </thead>\n",
              "  <tbody>\n",
              "    <tr>\n",
              "      <th>0</th>\n",
              "      <td>0</td>\n",
              "      <td>boardgame</td>\n",
              "      <td>30549</td>\n",
              "      <td>https://cf.geekdo-images.com/S3ybV1LAp-8SnHIXL...</td>\n",
              "      <td>https://cf.geekdo-images.com/S3ybV1LAp-8SnHIXL...</td>\n",
              "      <td>Pandemic</td>\n",
              "      <td>['EPIZOotic', 'Pandemia', 'Pandemia 10 Anivers...</td>\n",
              "      <td>In Pandemic, several virulent diseases have br...</td>\n",
              "      <td>2008</td>\n",
              "      <td>2</td>\n",
              "      <td>...</td>\n",
              "      <td>NaN</td>\n",
              "      <td>NaN</td>\n",
              "      <td>NaN</td>\n",
              "      <td>NaN</td>\n",
              "      <td>NaN</td>\n",
              "      <td>NaN</td>\n",
              "      <td>NaN</td>\n",
              "      <td>NaN</td>\n",
              "      <td>NaN</td>\n",
              "      <td>NaN</td>\n",
              "    </tr>\n",
              "    <tr>\n",
              "      <th>1</th>\n",
              "      <td>1</td>\n",
              "      <td>boardgame</td>\n",
              "      <td>822</td>\n",
              "      <td>https://cf.geekdo-images.com/okM0dq_bEXnbyQTOv...</td>\n",
              "      <td>https://cf.geekdo-images.com/okM0dq_bEXnbyQTOv...</td>\n",
              "      <td>Carcassonne</td>\n",
              "      <td>['Carcassonne Jubilee Edition', 'Carcassonne: ...</td>\n",
              "      <td>Carcassonne is a tile-placement game in which ...</td>\n",
              "      <td>2000</td>\n",
              "      <td>2</td>\n",
              "      <td>...</td>\n",
              "      <td>NaN</td>\n",
              "      <td>NaN</td>\n",
              "      <td>NaN</td>\n",
              "      <td>NaN</td>\n",
              "      <td>NaN</td>\n",
              "      <td>NaN</td>\n",
              "      <td>NaN</td>\n",
              "      <td>NaN</td>\n",
              "      <td>NaN</td>\n",
              "      <td>NaN</td>\n",
              "    </tr>\n",
              "    <tr>\n",
              "      <th>2</th>\n",
              "      <td>2</td>\n",
              "      <td>boardgame</td>\n",
              "      <td>13</td>\n",
              "      <td>https://cf.geekdo-images.com/W3Bsga_uLP9kO91gZ...</td>\n",
              "      <td>https://cf.geekdo-images.com/W3Bsga_uLP9kO91gZ...</td>\n",
              "      <td>Catan</td>\n",
              "      <td>['CATAN', 'Catan (Колонизаторы)', 'Catan telep...</td>\n",
              "      <td>In CATAN (formerly The Settlers of Catan), pla...</td>\n",
              "      <td>1995</td>\n",
              "      <td>3</td>\n",
              "      <td>...</td>\n",
              "      <td>NaN</td>\n",
              "      <td>NaN</td>\n",
              "      <td>NaN</td>\n",
              "      <td>NaN</td>\n",
              "      <td>NaN</td>\n",
              "      <td>NaN</td>\n",
              "      <td>NaN</td>\n",
              "      <td>NaN</td>\n",
              "      <td>NaN</td>\n",
              "      <td>NaN</td>\n",
              "    </tr>\n",
              "  </tbody>\n",
              "</table>\n",
              "<p>3 rows × 56 columns</p>\n",
              "</div>\n",
              "      <button class=\"colab-df-convert\" onclick=\"convertToInteractive('df-5b5812e8-900a-4542-bcc0-3edb4d12f649')\"\n",
              "              title=\"Convert this dataframe to an interactive table.\"\n",
              "              style=\"display:none;\">\n",
              "        \n",
              "  <svg xmlns=\"http://www.w3.org/2000/svg\" height=\"24px\"viewBox=\"0 0 24 24\"\n",
              "       width=\"24px\">\n",
              "    <path d=\"M0 0h24v24H0V0z\" fill=\"none\"/>\n",
              "    <path d=\"M18.56 5.44l.94 2.06.94-2.06 2.06-.94-2.06-.94-.94-2.06-.94 2.06-2.06.94zm-11 1L8.5 8.5l.94-2.06 2.06-.94-2.06-.94L8.5 2.5l-.94 2.06-2.06.94zm10 10l.94 2.06.94-2.06 2.06-.94-2.06-.94-.94-2.06-.94 2.06-2.06.94z\"/><path d=\"M17.41 7.96l-1.37-1.37c-.4-.4-.92-.59-1.43-.59-.52 0-1.04.2-1.43.59L10.3 9.45l-7.72 7.72c-.78.78-.78 2.05 0 2.83L4 21.41c.39.39.9.59 1.41.59.51 0 1.02-.2 1.41-.59l7.78-7.78 2.81-2.81c.8-.78.8-2.07 0-2.86zM5.41 20L4 18.59l7.72-7.72 1.47 1.35L5.41 20z\"/>\n",
              "  </svg>\n",
              "      </button>\n",
              "      \n",
              "  <style>\n",
              "    .colab-df-container {\n",
              "      display:flex;\n",
              "      flex-wrap:wrap;\n",
              "      gap: 12px;\n",
              "    }\n",
              "\n",
              "    .colab-df-convert {\n",
              "      background-color: #E8F0FE;\n",
              "      border: none;\n",
              "      border-radius: 50%;\n",
              "      cursor: pointer;\n",
              "      display: none;\n",
              "      fill: #1967D2;\n",
              "      height: 32px;\n",
              "      padding: 0 0 0 0;\n",
              "      width: 32px;\n",
              "    }\n",
              "\n",
              "    .colab-df-convert:hover {\n",
              "      background-color: #E2EBFA;\n",
              "      box-shadow: 0px 1px 2px rgba(60, 64, 67, 0.3), 0px 1px 3px 1px rgba(60, 64, 67, 0.15);\n",
              "      fill: #174EA6;\n",
              "    }\n",
              "\n",
              "    [theme=dark] .colab-df-convert {\n",
              "      background-color: #3B4455;\n",
              "      fill: #D2E3FC;\n",
              "    }\n",
              "\n",
              "    [theme=dark] .colab-df-convert:hover {\n",
              "      background-color: #434B5C;\n",
              "      box-shadow: 0px 1px 3px 1px rgba(0, 0, 0, 0.15);\n",
              "      filter: drop-shadow(0px 1px 2px rgba(0, 0, 0, 0.3));\n",
              "      fill: #FFFFFF;\n",
              "    }\n",
              "  </style>\n",
              "\n",
              "      <script>\n",
              "        const buttonEl =\n",
              "          document.querySelector('#df-5b5812e8-900a-4542-bcc0-3edb4d12f649 button.colab-df-convert');\n",
              "        buttonEl.style.display =\n",
              "          google.colab.kernel.accessAllowed ? 'block' : 'none';\n",
              "\n",
              "        async function convertToInteractive(key) {\n",
              "          const element = document.querySelector('#df-5b5812e8-900a-4542-bcc0-3edb4d12f649');\n",
              "          const dataTable =\n",
              "            await google.colab.kernel.invokeFunction('convertToInteractive',\n",
              "                                                     [key], {});\n",
              "          if (!dataTable) return;\n",
              "\n",
              "          const docLinkHtml = 'Like what you see? Visit the ' +\n",
              "            '<a target=\"_blank\" href=https://colab.research.google.com/notebooks/data_table.ipynb>data table notebook</a>'\n",
              "            + ' to learn more about interactive tables.';\n",
              "          element.innerHTML = '';\n",
              "          dataTable['output_type'] = 'display_data';\n",
              "          await google.colab.output.renderOutput(dataTable, element);\n",
              "          const docLink = document.createElement('div');\n",
              "          docLink.innerHTML = docLinkHtml;\n",
              "          element.appendChild(docLink);\n",
              "        }\n",
              "      </script>\n",
              "    </div>\n",
              "  </div>\n",
              "  "
            ]
          },
          "metadata": {},
          "execution_count": 69
        }
      ]
    },
    {
      "cell_type": "code",
      "source": [
        "df.shape"
      ],
      "metadata": {
        "colab": {
          "base_uri": "https://localhost:8080/"
        },
        "id": "862EBFaP68XE",
        "outputId": "16609373-55aa-4317-b7cc-be2fba0034b1"
      },
      "execution_count": 70,
      "outputs": [
        {
          "output_type": "execute_result",
          "data": {
            "text/plain": [
              "(21631, 56)"
            ]
          },
          "metadata": {},
          "execution_count": 70
        }
      ]
    },
    {
      "cell_type": "markdown",
      "source": [
        "##1. 데이터 전처리"
      ],
      "metadata": {
        "id": "1hjtsFmb929o"
      }
    },
    {
      "cell_type": "markdown",
      "source": [
        "####1-1. 불필요한 컬럼(특성) 제거"
      ],
      "metadata": {
        "id": "qHT9ctR69775"
      }
    },
    {
      "cell_type": "code",
      "source": [
        "#make meaningful dataframe with valualble columns from the whole dataset\n",
        "df = df[[\"id\",\"thumbnail\",\"image\",\"primary\",\"description\",\"yearpublished\",\"minplayers\",\"maxplayers\",\"playingtime\",\"minplaytime\",\n",
        "    \"maxplaytime\",\"minage\",\"boardgamecategory\",\"usersrated\",\"average\",\"Board Game Rank\",\"averageweight\"]]\n",
        "df.shape"
      ],
      "metadata": {
        "colab": {
          "base_uri": "https://localhost:8080/"
        },
        "id": "4pIqnh_u7Jii",
        "outputId": "a6dc0586-a9f7-4932-d5c4-8766367b4847"
      },
      "execution_count": 71,
      "outputs": [
        {
          "output_type": "execute_result",
          "data": {
            "text/plain": [
              "(21631, 17)"
            ]
          },
          "metadata": {},
          "execution_count": 71
        }
      ]
    },
    {
      "cell_type": "markdown",
      "source": [
        "####1-3. 결측치 제거"
      ],
      "metadata": {
        "id": "ylMakK1HBiDl"
      }
    },
    {
      "cell_type": "code",
      "source": [
        "df.isnull().sum()"
      ],
      "metadata": {
        "colab": {
          "base_uri": "https://localhost:8080/"
        },
        "id": "_g-2mBsAA9IE",
        "outputId": "20b0bf8c-79ff-4596-ee56-df85f472602e"
      },
      "execution_count": 72,
      "outputs": [
        {
          "output_type": "execute_result",
          "data": {
            "text/plain": [
              "id                     0\n",
              "thumbnail             15\n",
              "image                 15\n",
              "primary                0\n",
              "description            1\n",
              "yearpublished          0\n",
              "minplayers             0\n",
              "maxplayers             0\n",
              "playingtime            0\n",
              "minplaytime            0\n",
              "maxplaytime            0\n",
              "minage                 0\n",
              "boardgamecategory    283\n",
              "usersrated             0\n",
              "average                0\n",
              "Board Game Rank        0\n",
              "averageweight          0\n",
              "dtype: int64"
            ]
          },
          "metadata": {},
          "execution_count": 72
        }
      ]
    },
    {
      "cell_type": "code",
      "source": [
        "#Remove null values\n",
        "df = df.dropna(axis = 0)\n",
        "df.shape"
      ],
      "metadata": {
        "colab": {
          "base_uri": "https://localhost:8080/"
        },
        "id": "_gaSGecNCeJV",
        "outputId": "b94c2453-ae79-4643-fa9f-5496ab79c305"
      },
      "execution_count": 73,
      "outputs": [
        {
          "output_type": "execute_result",
          "data": {
            "text/plain": [
              "(21333, 17)"
            ]
          },
          "metadata": {},
          "execution_count": 73
        }
      ]
    },
    {
      "cell_type": "markdown",
      "source": [
        "####1-3. 이상치 제거"
      ],
      "metadata": {
        "id": "O8u2l6Mm-RWM"
      }
    },
    {
      "cell_type": "code",
      "source": [
        "# remove games which published year are below 1900 or above 2022\n",
        "condition = (df[\"yearpublished\"]<1900)|(df[\"yearpublished\"]>2022)\n",
        "df.drop(df.loc[condition].index, inplace=True)\n",
        "df.shape"
      ],
      "metadata": {
        "colab": {
          "base_uri": "https://localhost:8080/"
        },
        "id": "7_5uEUK2-QCN",
        "outputId": "2d894f8c-1607-40af-8cc4-3c416a48ac00"
      },
      "execution_count": 74,
      "outputs": [
        {
          "output_type": "execute_result",
          "data": {
            "text/plain": [
              "(21040, 17)"
            ]
          },
          "metadata": {},
          "execution_count": 74
        }
      ]
    },
    {
      "cell_type": "code",
      "source": [
        "# remove games which minimun players are below 1 or maximum players are lower than minplayers\n",
        "condition = (df[\"minplayers\"]<=0)|(df[\"maxplayers\"]<df[\"minplayers\"])\n",
        "df.drop(df.loc[condition].index, inplace=True)\n",
        "df.shape"
      ],
      "metadata": {
        "colab": {
          "base_uri": "https://localhost:8080/"
        },
        "id": "mrwECdr6C2g3",
        "outputId": "94acd825-649d-4579-ab36-c34d1a544318"
      },
      "execution_count": 75,
      "outputs": [
        {
          "output_type": "execute_result",
          "data": {
            "text/plain": [
              "(20882, 17)"
            ]
          },
          "metadata": {},
          "execution_count": 75
        }
      ]
    },
    {
      "cell_type": "code",
      "source": [
        "# remove games which both minimun play time and maximum play time are 0\n",
        "condition = (df[\"minplaytime\"]==0)&(df[\"maxplaytime\"]==0)\n",
        "df.drop(df.loc[condition].index, inplace=True)\n",
        "df.shape"
      ],
      "metadata": {
        "colab": {
          "base_uri": "https://localhost:8080/"
        },
        "id": "i_-lJx2DEM7u",
        "outputId": "051b559f-70e5-4a48-e0c8-86434089bb7c"
      },
      "execution_count": 76,
      "outputs": [
        {
          "output_type": "execute_result",
          "data": {
            "text/plain": [
              "(20358, 17)"
            ]
          },
          "metadata": {},
          "execution_count": 76
        }
      ]
    },
    {
      "cell_type": "code",
      "source": [
        "# remove games if min_play_time and max_play_time were put in opposite way\n",
        "condition = (df[\"maxplaytime\"]<df[\"minplaytime\"])\n",
        "df.drop(df.loc[condition].index, inplace=True)\n",
        "df.shape"
      ],
      "metadata": {
        "colab": {
          "base_uri": "https://localhost:8080/"
        },
        "id": "5096EMlQGiL7",
        "outputId": "30644f1d-bccb-4b89-e0cb-80f9ee3b13fa"
      },
      "execution_count": 77,
      "outputs": [
        {
          "output_type": "execute_result",
          "data": {
            "text/plain": [
              "(20216, 17)"
            ]
          },
          "metadata": {},
          "execution_count": 77
        }
      ]
    },
    {
      "cell_type": "code",
      "source": [
        "# Check games if average below 1\n",
        "condition = (df[\"averageweight\"]<1)\n",
        "df.drop(df.loc[condition].index, inplace=True)\n",
        "df.shape"
      ],
      "metadata": {
        "colab": {
          "base_uri": "https://localhost:8080/"
        },
        "id": "ryPc0W76JRbv",
        "outputId": "fbaf54e5-6671-440a-906a-068bfe2a9228"
      },
      "execution_count": 78,
      "outputs": [
        {
          "output_type": "execute_result",
          "data": {
            "text/plain": [
              "(19804, 17)"
            ]
          },
          "metadata": {},
          "execution_count": 78
        }
      ]
    },
    {
      "cell_type": "code",
      "source": [
        "# Check games if minage below 0 or above 200\n",
        "condition = (df[\"minage\"]<0)|(df[\"minage\"]>200)\n",
        "df[condition]\n",
        "\n",
        "# Check games if usersrated below 0\n",
        "condition = (df[\"usersrated\"]<=0)\n",
        "df[condition]\n",
        "\n",
        "# Check games if average below 0\n",
        "condition = (df[\"average\"]<=0)\n",
        "df[condition]\n",
        "df.shape"
      ],
      "metadata": {
        "colab": {
          "base_uri": "https://localhost:8080/"
        },
        "id": "GN1tI8hTGv0i",
        "outputId": "c95e7561-2ee0-47e5-d5f3-c7ba50ce06cd"
      },
      "execution_count": 79,
      "outputs": [
        {
          "output_type": "execute_result",
          "data": {
            "text/plain": [
              "(19804, 17)"
            ]
          },
          "metadata": {},
          "execution_count": 79
        }
      ]
    },
    {
      "cell_type": "markdown",
      "source": [
        "1-4. 중복 데이터 제거"
      ],
      "metadata": {
        "id": "aM1CDAlCBnFO"
      }
    },
    {
      "cell_type": "code",
      "source": [
        "#check any duplicated data set\n",
        "df.duplicated().sum()"
      ],
      "metadata": {
        "colab": {
          "base_uri": "https://localhost:8080/"
        },
        "id": "CvwaNiVUHcwM",
        "outputId": "b6b2a4b3-16a9-4035-b446-930f447a3655"
      },
      "execution_count": 80,
      "outputs": [
        {
          "output_type": "execute_result",
          "data": {
            "text/plain": [
              "0"
            ]
          },
          "metadata": {},
          "execution_count": 80
        }
      ]
    },
    {
      "cell_type": "markdown",
      "source": [
        "##2. 학습 할 \"description\" 데이터 프레임 전처리"
      ],
      "metadata": {
        "id": "OMNZjmwCBnDH"
      }
    },
    {
      "cell_type": "code",
      "source": [
        "#데이터 평가 많은 순으로 sort\n",
        "df.sort_values(by=[\"usersrated\",\"average\"],ascending=[False,False])\n",
        "df.head(3)"
      ],
      "metadata": {
        "colab": {
          "base_uri": "https://localhost:8080/",
          "height": 433
        },
        "id": "7Jx95JP7Ls3K",
        "outputId": "e148e953-7424-4981-c017-b18cfa141523"
      },
      "execution_count": 81,
      "outputs": [
        {
          "output_type": "execute_result",
          "data": {
            "text/plain": [
              "      id                                          thumbnail  \\\n",
              "0  30549  https://cf.geekdo-images.com/S3ybV1LAp-8SnHIXL...   \n",
              "1    822  https://cf.geekdo-images.com/okM0dq_bEXnbyQTOv...   \n",
              "2     13  https://cf.geekdo-images.com/W3Bsga_uLP9kO91gZ...   \n",
              "\n",
              "                                               image      primary  \\\n",
              "0  https://cf.geekdo-images.com/S3ybV1LAp-8SnHIXL...     Pandemic   \n",
              "1  https://cf.geekdo-images.com/okM0dq_bEXnbyQTOv...  Carcassonne   \n",
              "2  https://cf.geekdo-images.com/W3Bsga_uLP9kO91gZ...        Catan   \n",
              "\n",
              "                                         description  yearpublished  \\\n",
              "0  In Pandemic, several virulent diseases have br...           2008   \n",
              "1  Carcassonne is a tile-placement game in which ...           2000   \n",
              "2  In CATAN (formerly The Settlers of Catan), pla...           1995   \n",
              "\n",
              "   minplayers  maxplayers  playingtime  minplaytime  maxplaytime  minage  \\\n",
              "0           2           4           45           45           45       8   \n",
              "1           2           5           45           30           45       7   \n",
              "2           3           4          120           60          120      10   \n",
              "\n",
              "                                   boardgamecategory  usersrated  average  \\\n",
              "0                                        ['Medical']      109006  7.58896   \n",
              "1  ['City Building', 'Medieval', 'Territory Build...      108776  7.41837   \n",
              "2                        ['Economic', 'Negotiation']      108064  7.13598   \n",
              "\n",
              "  Board Game Rank  averageweight  \n",
              "0             106         2.4063  \n",
              "1             191         1.9057  \n",
              "2             429         2.3130  "
            ],
            "text/html": [
              "\n",
              "  <div id=\"df-ac13341e-6fd5-465a-a81f-67933cae5096\">\n",
              "    <div class=\"colab-df-container\">\n",
              "      <div>\n",
              "<style scoped>\n",
              "    .dataframe tbody tr th:only-of-type {\n",
              "        vertical-align: middle;\n",
              "    }\n",
              "\n",
              "    .dataframe tbody tr th {\n",
              "        vertical-align: top;\n",
              "    }\n",
              "\n",
              "    .dataframe thead th {\n",
              "        text-align: right;\n",
              "    }\n",
              "</style>\n",
              "<table border=\"1\" class=\"dataframe\">\n",
              "  <thead>\n",
              "    <tr style=\"text-align: right;\">\n",
              "      <th></th>\n",
              "      <th>id</th>\n",
              "      <th>thumbnail</th>\n",
              "      <th>image</th>\n",
              "      <th>primary</th>\n",
              "      <th>description</th>\n",
              "      <th>yearpublished</th>\n",
              "      <th>minplayers</th>\n",
              "      <th>maxplayers</th>\n",
              "      <th>playingtime</th>\n",
              "      <th>minplaytime</th>\n",
              "      <th>maxplaytime</th>\n",
              "      <th>minage</th>\n",
              "      <th>boardgamecategory</th>\n",
              "      <th>usersrated</th>\n",
              "      <th>average</th>\n",
              "      <th>Board Game Rank</th>\n",
              "      <th>averageweight</th>\n",
              "    </tr>\n",
              "  </thead>\n",
              "  <tbody>\n",
              "    <tr>\n",
              "      <th>0</th>\n",
              "      <td>30549</td>\n",
              "      <td>https://cf.geekdo-images.com/S3ybV1LAp-8SnHIXL...</td>\n",
              "      <td>https://cf.geekdo-images.com/S3ybV1LAp-8SnHIXL...</td>\n",
              "      <td>Pandemic</td>\n",
              "      <td>In Pandemic, several virulent diseases have br...</td>\n",
              "      <td>2008</td>\n",
              "      <td>2</td>\n",
              "      <td>4</td>\n",
              "      <td>45</td>\n",
              "      <td>45</td>\n",
              "      <td>45</td>\n",
              "      <td>8</td>\n",
              "      <td>['Medical']</td>\n",
              "      <td>109006</td>\n",
              "      <td>7.58896</td>\n",
              "      <td>106</td>\n",
              "      <td>2.4063</td>\n",
              "    </tr>\n",
              "    <tr>\n",
              "      <th>1</th>\n",
              "      <td>822</td>\n",
              "      <td>https://cf.geekdo-images.com/okM0dq_bEXnbyQTOv...</td>\n",
              "      <td>https://cf.geekdo-images.com/okM0dq_bEXnbyQTOv...</td>\n",
              "      <td>Carcassonne</td>\n",
              "      <td>Carcassonne is a tile-placement game in which ...</td>\n",
              "      <td>2000</td>\n",
              "      <td>2</td>\n",
              "      <td>5</td>\n",
              "      <td>45</td>\n",
              "      <td>30</td>\n",
              "      <td>45</td>\n",
              "      <td>7</td>\n",
              "      <td>['City Building', 'Medieval', 'Territory Build...</td>\n",
              "      <td>108776</td>\n",
              "      <td>7.41837</td>\n",
              "      <td>191</td>\n",
              "      <td>1.9057</td>\n",
              "    </tr>\n",
              "    <tr>\n",
              "      <th>2</th>\n",
              "      <td>13</td>\n",
              "      <td>https://cf.geekdo-images.com/W3Bsga_uLP9kO91gZ...</td>\n",
              "      <td>https://cf.geekdo-images.com/W3Bsga_uLP9kO91gZ...</td>\n",
              "      <td>Catan</td>\n",
              "      <td>In CATAN (formerly The Settlers of Catan), pla...</td>\n",
              "      <td>1995</td>\n",
              "      <td>3</td>\n",
              "      <td>4</td>\n",
              "      <td>120</td>\n",
              "      <td>60</td>\n",
              "      <td>120</td>\n",
              "      <td>10</td>\n",
              "      <td>['Economic', 'Negotiation']</td>\n",
              "      <td>108064</td>\n",
              "      <td>7.13598</td>\n",
              "      <td>429</td>\n",
              "      <td>2.3130</td>\n",
              "    </tr>\n",
              "  </tbody>\n",
              "</table>\n",
              "</div>\n",
              "      <button class=\"colab-df-convert\" onclick=\"convertToInteractive('df-ac13341e-6fd5-465a-a81f-67933cae5096')\"\n",
              "              title=\"Convert this dataframe to an interactive table.\"\n",
              "              style=\"display:none;\">\n",
              "        \n",
              "  <svg xmlns=\"http://www.w3.org/2000/svg\" height=\"24px\"viewBox=\"0 0 24 24\"\n",
              "       width=\"24px\">\n",
              "    <path d=\"M0 0h24v24H0V0z\" fill=\"none\"/>\n",
              "    <path d=\"M18.56 5.44l.94 2.06.94-2.06 2.06-.94-2.06-.94-.94-2.06-.94 2.06-2.06.94zm-11 1L8.5 8.5l.94-2.06 2.06-.94-2.06-.94L8.5 2.5l-.94 2.06-2.06.94zm10 10l.94 2.06.94-2.06 2.06-.94-2.06-.94-.94-2.06-.94 2.06-2.06.94z\"/><path d=\"M17.41 7.96l-1.37-1.37c-.4-.4-.92-.59-1.43-.59-.52 0-1.04.2-1.43.59L10.3 9.45l-7.72 7.72c-.78.78-.78 2.05 0 2.83L4 21.41c.39.39.9.59 1.41.59.51 0 1.02-.2 1.41-.59l7.78-7.78 2.81-2.81c.8-.78.8-2.07 0-2.86zM5.41 20L4 18.59l7.72-7.72 1.47 1.35L5.41 20z\"/>\n",
              "  </svg>\n",
              "      </button>\n",
              "      \n",
              "  <style>\n",
              "    .colab-df-container {\n",
              "      display:flex;\n",
              "      flex-wrap:wrap;\n",
              "      gap: 12px;\n",
              "    }\n",
              "\n",
              "    .colab-df-convert {\n",
              "      background-color: #E8F0FE;\n",
              "      border: none;\n",
              "      border-radius: 50%;\n",
              "      cursor: pointer;\n",
              "      display: none;\n",
              "      fill: #1967D2;\n",
              "      height: 32px;\n",
              "      padding: 0 0 0 0;\n",
              "      width: 32px;\n",
              "    }\n",
              "\n",
              "    .colab-df-convert:hover {\n",
              "      background-color: #E2EBFA;\n",
              "      box-shadow: 0px 1px 2px rgba(60, 64, 67, 0.3), 0px 1px 3px 1px rgba(60, 64, 67, 0.15);\n",
              "      fill: #174EA6;\n",
              "    }\n",
              "\n",
              "    [theme=dark] .colab-df-convert {\n",
              "      background-color: #3B4455;\n",
              "      fill: #D2E3FC;\n",
              "    }\n",
              "\n",
              "    [theme=dark] .colab-df-convert:hover {\n",
              "      background-color: #434B5C;\n",
              "      box-shadow: 0px 1px 3px 1px rgba(0, 0, 0, 0.15);\n",
              "      filter: drop-shadow(0px 1px 2px rgba(0, 0, 0, 0.3));\n",
              "      fill: #FFFFFF;\n",
              "    }\n",
              "  </style>\n",
              "\n",
              "      <script>\n",
              "        const buttonEl =\n",
              "          document.querySelector('#df-ac13341e-6fd5-465a-a81f-67933cae5096 button.colab-df-convert');\n",
              "        buttonEl.style.display =\n",
              "          google.colab.kernel.accessAllowed ? 'block' : 'none';\n",
              "\n",
              "        async function convertToInteractive(key) {\n",
              "          const element = document.querySelector('#df-ac13341e-6fd5-465a-a81f-67933cae5096');\n",
              "          const dataTable =\n",
              "            await google.colab.kernel.invokeFunction('convertToInteractive',\n",
              "                                                     [key], {});\n",
              "          if (!dataTable) return;\n",
              "\n",
              "          const docLinkHtml = 'Like what you see? Visit the ' +\n",
              "            '<a target=\"_blank\" href=https://colab.research.google.com/notebooks/data_table.ipynb>data table notebook</a>'\n",
              "            + ' to learn more about interactive tables.';\n",
              "          element.innerHTML = '';\n",
              "          dataTable['output_type'] = 'display_data';\n",
              "          await google.colab.output.renderOutput(dataTable, element);\n",
              "          const docLink = document.createElement('div');\n",
              "          docLink.innerHTML = docLinkHtml;\n",
              "          element.appendChild(docLink);\n",
              "        }\n",
              "      </script>\n",
              "    </div>\n",
              "  </div>\n",
              "  "
            ]
          },
          "metadata": {},
          "execution_count": 81
        }
      ]
    },
    {
      "cell_type": "code",
      "source": [
        "#new data set for DLM\n",
        "df_description = df[[\"id\",\"primary\",\"description\"]]\n",
        "df_description.head(3)"
      ],
      "metadata": {
        "colab": {
          "base_uri": "https://localhost:8080/",
          "height": 143
        },
        "id": "1I-dl_vXLX_s",
        "outputId": "be8a0909-e25d-4c80-c494-34ce52599da7"
      },
      "execution_count": 82,
      "outputs": [
        {
          "output_type": "execute_result",
          "data": {
            "text/plain": [
              "      id      primary                                        description\n",
              "0  30549     Pandemic  In Pandemic, several virulent diseases have br...\n",
              "1    822  Carcassonne  Carcassonne is a tile-placement game in which ...\n",
              "2     13        Catan  In CATAN (formerly The Settlers of Catan), pla..."
            ],
            "text/html": [
              "\n",
              "  <div id=\"df-61f78735-b718-4640-927f-8b6d08889464\">\n",
              "    <div class=\"colab-df-container\">\n",
              "      <div>\n",
              "<style scoped>\n",
              "    .dataframe tbody tr th:only-of-type {\n",
              "        vertical-align: middle;\n",
              "    }\n",
              "\n",
              "    .dataframe tbody tr th {\n",
              "        vertical-align: top;\n",
              "    }\n",
              "\n",
              "    .dataframe thead th {\n",
              "        text-align: right;\n",
              "    }\n",
              "</style>\n",
              "<table border=\"1\" class=\"dataframe\">\n",
              "  <thead>\n",
              "    <tr style=\"text-align: right;\">\n",
              "      <th></th>\n",
              "      <th>id</th>\n",
              "      <th>primary</th>\n",
              "      <th>description</th>\n",
              "    </tr>\n",
              "  </thead>\n",
              "  <tbody>\n",
              "    <tr>\n",
              "      <th>0</th>\n",
              "      <td>30549</td>\n",
              "      <td>Pandemic</td>\n",
              "      <td>In Pandemic, several virulent diseases have br...</td>\n",
              "    </tr>\n",
              "    <tr>\n",
              "      <th>1</th>\n",
              "      <td>822</td>\n",
              "      <td>Carcassonne</td>\n",
              "      <td>Carcassonne is a tile-placement game in which ...</td>\n",
              "    </tr>\n",
              "    <tr>\n",
              "      <th>2</th>\n",
              "      <td>13</td>\n",
              "      <td>Catan</td>\n",
              "      <td>In CATAN (formerly The Settlers of Catan), pla...</td>\n",
              "    </tr>\n",
              "  </tbody>\n",
              "</table>\n",
              "</div>\n",
              "      <button class=\"colab-df-convert\" onclick=\"convertToInteractive('df-61f78735-b718-4640-927f-8b6d08889464')\"\n",
              "              title=\"Convert this dataframe to an interactive table.\"\n",
              "              style=\"display:none;\">\n",
              "        \n",
              "  <svg xmlns=\"http://www.w3.org/2000/svg\" height=\"24px\"viewBox=\"0 0 24 24\"\n",
              "       width=\"24px\">\n",
              "    <path d=\"M0 0h24v24H0V0z\" fill=\"none\"/>\n",
              "    <path d=\"M18.56 5.44l.94 2.06.94-2.06 2.06-.94-2.06-.94-.94-2.06-.94 2.06-2.06.94zm-11 1L8.5 8.5l.94-2.06 2.06-.94-2.06-.94L8.5 2.5l-.94 2.06-2.06.94zm10 10l.94 2.06.94-2.06 2.06-.94-2.06-.94-.94-2.06-.94 2.06-2.06.94z\"/><path d=\"M17.41 7.96l-1.37-1.37c-.4-.4-.92-.59-1.43-.59-.52 0-1.04.2-1.43.59L10.3 9.45l-7.72 7.72c-.78.78-.78 2.05 0 2.83L4 21.41c.39.39.9.59 1.41.59.51 0 1.02-.2 1.41-.59l7.78-7.78 2.81-2.81c.8-.78.8-2.07 0-2.86zM5.41 20L4 18.59l7.72-7.72 1.47 1.35L5.41 20z\"/>\n",
              "  </svg>\n",
              "      </button>\n",
              "      \n",
              "  <style>\n",
              "    .colab-df-container {\n",
              "      display:flex;\n",
              "      flex-wrap:wrap;\n",
              "      gap: 12px;\n",
              "    }\n",
              "\n",
              "    .colab-df-convert {\n",
              "      background-color: #E8F0FE;\n",
              "      border: none;\n",
              "      border-radius: 50%;\n",
              "      cursor: pointer;\n",
              "      display: none;\n",
              "      fill: #1967D2;\n",
              "      height: 32px;\n",
              "      padding: 0 0 0 0;\n",
              "      width: 32px;\n",
              "    }\n",
              "\n",
              "    .colab-df-convert:hover {\n",
              "      background-color: #E2EBFA;\n",
              "      box-shadow: 0px 1px 2px rgba(60, 64, 67, 0.3), 0px 1px 3px 1px rgba(60, 64, 67, 0.15);\n",
              "      fill: #174EA6;\n",
              "    }\n",
              "\n",
              "    [theme=dark] .colab-df-convert {\n",
              "      background-color: #3B4455;\n",
              "      fill: #D2E3FC;\n",
              "    }\n",
              "\n",
              "    [theme=dark] .colab-df-convert:hover {\n",
              "      background-color: #434B5C;\n",
              "      box-shadow: 0px 1px 3px 1px rgba(0, 0, 0, 0.15);\n",
              "      filter: drop-shadow(0px 1px 2px rgba(0, 0, 0, 0.3));\n",
              "      fill: #FFFFFF;\n",
              "    }\n",
              "  </style>\n",
              "\n",
              "      <script>\n",
              "        const buttonEl =\n",
              "          document.querySelector('#df-61f78735-b718-4640-927f-8b6d08889464 button.colab-df-convert');\n",
              "        buttonEl.style.display =\n",
              "          google.colab.kernel.accessAllowed ? 'block' : 'none';\n",
              "\n",
              "        async function convertToInteractive(key) {\n",
              "          const element = document.querySelector('#df-61f78735-b718-4640-927f-8b6d08889464');\n",
              "          const dataTable =\n",
              "            await google.colab.kernel.invokeFunction('convertToInteractive',\n",
              "                                                     [key], {});\n",
              "          if (!dataTable) return;\n",
              "\n",
              "          const docLinkHtml = 'Like what you see? Visit the ' +\n",
              "            '<a target=\"_blank\" href=https://colab.research.google.com/notebooks/data_table.ipynb>data table notebook</a>'\n",
              "            + ' to learn more about interactive tables.';\n",
              "          element.innerHTML = '';\n",
              "          dataTable['output_type'] = 'display_data';\n",
              "          await google.colab.output.renderOutput(dataTable, element);\n",
              "          const docLink = document.createElement('div');\n",
              "          docLink.innerHTML = docLinkHtml;\n",
              "          element.appendChild(docLink);\n",
              "        }\n",
              "      </script>\n",
              "    </div>\n",
              "  </div>\n",
              "  "
            ]
          },
          "metadata": {},
          "execution_count": 82
        }
      ]
    },
    {
      "cell_type": "code",
      "source": [
        "df_description = df_description[0:1000]\n",
        "df_description.shape"
      ],
      "metadata": {
        "colab": {
          "base_uri": "https://localhost:8080/"
        },
        "id": "VX3zMqcwNz4_",
        "outputId": "b5d444e0-9440-4b3c-835c-8a04ee663564"
      },
      "execution_count": 83,
      "outputs": [
        {
          "output_type": "execute_result",
          "data": {
            "text/plain": [
              "(1000, 3)"
            ]
          },
          "metadata": {},
          "execution_count": 83
        }
      ]
    },
    {
      "cell_type": "markdown",
      "source": [
        "####2-1. 텍스트 기반으로 토큰에 넣기"
      ],
      "metadata": {
        "id": "f3al2VG4BnAf"
      }
    },
    {
      "cell_type": "code",
      "source": [
        "#spacy 이용하여 tokenzing\n",
        "import spacy\n",
        "from spacy.tokenizer import Tokenizer\n",
        "import re\n",
        "\n",
        "nlp = spacy.load(\"en_core_web_sm\")\n",
        "tokenizer = Tokenizer(nlp.vocab)\n",
        "\n",
        "subst = \"\"\n",
        "regex = r\"[^a-zA-Z0-9 \\n]\"\n",
        "\n",
        "def tokenize(text):\n",
        "    # Regex\n",
        "    tokens = re.sub(\";\", \" \", text)\n",
        "    tokens = re.sub(regex, subst, tokens)\n",
        "    # Lower\n",
        "    tokens = tokens.lower().split()\n",
        "    \n",
        "    return tokens"
      ],
      "metadata": {
        "id": "ec4RaQwDLQBz"
      },
      "execution_count": 84,
      "outputs": []
    },
    {
      "cell_type": "markdown",
      "source": [
        "####2-2. 토큰 정제(Regex, Lower)"
      ],
      "metadata": {
        "id": "zYrWVhqSBm-B"
      }
    },
    {
      "cell_type": "code",
      "source": [
        "df_token = df_description.copy()\n",
        "df_token['tokens'] = df_token['description'].apply(tokenize)\n",
        "\n",
        "df_token.head(5)"
      ],
      "metadata": {
        "colab": {
          "base_uri": "https://localhost:8080/",
          "height": 206
        },
        "id": "Kdu28B3aTed4",
        "outputId": "b1ac733b-743a-417d-d9b8-8d972e069f93"
      },
      "execution_count": 85,
      "outputs": [
        {
          "output_type": "execute_result",
          "data": {
            "text/plain": [
              "      id      primary                                        description  \\\n",
              "0  30549     Pandemic  In Pandemic, several virulent diseases have br...   \n",
              "1    822  Carcassonne  Carcassonne is a tile-placement game in which ...   \n",
              "2     13        Catan  In CATAN (formerly The Settlers of Catan), pla...   \n",
              "3  68448    7 Wonders  You are the leader of one of the 7 great citie...   \n",
              "4  36218     Dominion  &quot;You are a monarch, like your parents bef...   \n",
              "\n",
              "                                              tokens  \n",
              "0  [in, pandemic, several, virulent, diseases, ha...  \n",
              "1  [carcassonne, is, a, tileplacement, game, in, ...  \n",
              "2  [in, catan, formerly, the, settlers, of, catan...  \n",
              "3  [you, are, the, leader, of, one, of, the, 7, g...  \n",
              "4  [quot, you, are, a, monarch, like, your, paren...  "
            ],
            "text/html": [
              "\n",
              "  <div id=\"df-018608b2-7015-4e1d-aec1-a16391727077\">\n",
              "    <div class=\"colab-df-container\">\n",
              "      <div>\n",
              "<style scoped>\n",
              "    .dataframe tbody tr th:only-of-type {\n",
              "        vertical-align: middle;\n",
              "    }\n",
              "\n",
              "    .dataframe tbody tr th {\n",
              "        vertical-align: top;\n",
              "    }\n",
              "\n",
              "    .dataframe thead th {\n",
              "        text-align: right;\n",
              "    }\n",
              "</style>\n",
              "<table border=\"1\" class=\"dataframe\">\n",
              "  <thead>\n",
              "    <tr style=\"text-align: right;\">\n",
              "      <th></th>\n",
              "      <th>id</th>\n",
              "      <th>primary</th>\n",
              "      <th>description</th>\n",
              "      <th>tokens</th>\n",
              "    </tr>\n",
              "  </thead>\n",
              "  <tbody>\n",
              "    <tr>\n",
              "      <th>0</th>\n",
              "      <td>30549</td>\n",
              "      <td>Pandemic</td>\n",
              "      <td>In Pandemic, several virulent diseases have br...</td>\n",
              "      <td>[in, pandemic, several, virulent, diseases, ha...</td>\n",
              "    </tr>\n",
              "    <tr>\n",
              "      <th>1</th>\n",
              "      <td>822</td>\n",
              "      <td>Carcassonne</td>\n",
              "      <td>Carcassonne is a tile-placement game in which ...</td>\n",
              "      <td>[carcassonne, is, a, tileplacement, game, in, ...</td>\n",
              "    </tr>\n",
              "    <tr>\n",
              "      <th>2</th>\n",
              "      <td>13</td>\n",
              "      <td>Catan</td>\n",
              "      <td>In CATAN (formerly The Settlers of Catan), pla...</td>\n",
              "      <td>[in, catan, formerly, the, settlers, of, catan...</td>\n",
              "    </tr>\n",
              "    <tr>\n",
              "      <th>3</th>\n",
              "      <td>68448</td>\n",
              "      <td>7 Wonders</td>\n",
              "      <td>You are the leader of one of the 7 great citie...</td>\n",
              "      <td>[you, are, the, leader, of, one, of, the, 7, g...</td>\n",
              "    </tr>\n",
              "    <tr>\n",
              "      <th>4</th>\n",
              "      <td>36218</td>\n",
              "      <td>Dominion</td>\n",
              "      <td>&amp;quot;You are a monarch, like your parents bef...</td>\n",
              "      <td>[quot, you, are, a, monarch, like, your, paren...</td>\n",
              "    </tr>\n",
              "  </tbody>\n",
              "</table>\n",
              "</div>\n",
              "      <button class=\"colab-df-convert\" onclick=\"convertToInteractive('df-018608b2-7015-4e1d-aec1-a16391727077')\"\n",
              "              title=\"Convert this dataframe to an interactive table.\"\n",
              "              style=\"display:none;\">\n",
              "        \n",
              "  <svg xmlns=\"http://www.w3.org/2000/svg\" height=\"24px\"viewBox=\"0 0 24 24\"\n",
              "       width=\"24px\">\n",
              "    <path d=\"M0 0h24v24H0V0z\" fill=\"none\"/>\n",
              "    <path d=\"M18.56 5.44l.94 2.06.94-2.06 2.06-.94-2.06-.94-.94-2.06-.94 2.06-2.06.94zm-11 1L8.5 8.5l.94-2.06 2.06-.94-2.06-.94L8.5 2.5l-.94 2.06-2.06.94zm10 10l.94 2.06.94-2.06 2.06-.94-2.06-.94-.94-2.06-.94 2.06-2.06.94z\"/><path d=\"M17.41 7.96l-1.37-1.37c-.4-.4-.92-.59-1.43-.59-.52 0-1.04.2-1.43.59L10.3 9.45l-7.72 7.72c-.78.78-.78 2.05 0 2.83L4 21.41c.39.39.9.59 1.41.59.51 0 1.02-.2 1.41-.59l7.78-7.78 2.81-2.81c.8-.78.8-2.07 0-2.86zM5.41 20L4 18.59l7.72-7.72 1.47 1.35L5.41 20z\"/>\n",
              "  </svg>\n",
              "      </button>\n",
              "      \n",
              "  <style>\n",
              "    .colab-df-container {\n",
              "      display:flex;\n",
              "      flex-wrap:wrap;\n",
              "      gap: 12px;\n",
              "    }\n",
              "\n",
              "    .colab-df-convert {\n",
              "      background-color: #E8F0FE;\n",
              "      border: none;\n",
              "      border-radius: 50%;\n",
              "      cursor: pointer;\n",
              "      display: none;\n",
              "      fill: #1967D2;\n",
              "      height: 32px;\n",
              "      padding: 0 0 0 0;\n",
              "      width: 32px;\n",
              "    }\n",
              "\n",
              "    .colab-df-convert:hover {\n",
              "      background-color: #E2EBFA;\n",
              "      box-shadow: 0px 1px 2px rgba(60, 64, 67, 0.3), 0px 1px 3px 1px rgba(60, 64, 67, 0.15);\n",
              "      fill: #174EA6;\n",
              "    }\n",
              "\n",
              "    [theme=dark] .colab-df-convert {\n",
              "      background-color: #3B4455;\n",
              "      fill: #D2E3FC;\n",
              "    }\n",
              "\n",
              "    [theme=dark] .colab-df-convert:hover {\n",
              "      background-color: #434B5C;\n",
              "      box-shadow: 0px 1px 3px 1px rgba(0, 0, 0, 0.15);\n",
              "      filter: drop-shadow(0px 1px 2px rgba(0, 0, 0, 0.3));\n",
              "      fill: #FFFFFF;\n",
              "    }\n",
              "  </style>\n",
              "\n",
              "      <script>\n",
              "        const buttonEl =\n",
              "          document.querySelector('#df-018608b2-7015-4e1d-aec1-a16391727077 button.colab-df-convert');\n",
              "        buttonEl.style.display =\n",
              "          google.colab.kernel.accessAllowed ? 'block' : 'none';\n",
              "\n",
              "        async function convertToInteractive(key) {\n",
              "          const element = document.querySelector('#df-018608b2-7015-4e1d-aec1-a16391727077');\n",
              "          const dataTable =\n",
              "            await google.colab.kernel.invokeFunction('convertToInteractive',\n",
              "                                                     [key], {});\n",
              "          if (!dataTable) return;\n",
              "\n",
              "          const docLinkHtml = 'Like what you see? Visit the ' +\n",
              "            '<a target=\"_blank\" href=https://colab.research.google.com/notebooks/data_table.ipynb>data table notebook</a>'\n",
              "            + ' to learn more about interactive tables.';\n",
              "          element.innerHTML = '';\n",
              "          dataTable['output_type'] = 'display_data';\n",
              "          await google.colab.output.renderOutput(dataTable, element);\n",
              "          const docLink = document.createElement('div');\n",
              "          docLink.innerHTML = docLinkHtml;\n",
              "          element.appendChild(docLink);\n",
              "        }\n",
              "      </script>\n",
              "    </div>\n",
              "  </div>\n",
              "  "
            ]
          },
          "metadata": {},
          "execution_count": 85
        }
      ]
    },
    {
      "cell_type": "markdown",
      "source": [
        "####2-3. 토큰 시각화(중간 점검)"
      ],
      "metadata": {
        "id": "UrKQKelyTOjp"
      }
    },
    {
      "cell_type": "code",
      "source": [
        "from collections import Counter\n",
        "\n",
        "def word_count(docs):\n",
        "    \"\"\" 토큰화된 문서들을 입력받아 토큰을 카운트 하고 관련된 속성을 가진 데이터프레임을 리턴합니다.\n",
        "    Args:\n",
        "        docs (series or list): 토큰화된 문서가 들어있는 list\n",
        "    Returns:\n",
        "        list: Dataframe\n",
        "    \"\"\"\n",
        "    # 전체 코퍼스에서 단어 빈도 카운트\n",
        "    word_counts = Counter()\n",
        "\n",
        "    # 단어가 존재하는 문서의 빈도 카운트, 단어가 한 번 이상 존재하면 +1\n",
        "    word_in_docs = Counter()\n",
        "\n",
        "    # 전체 문서의 갯수\n",
        "    total_docs = len(docs)\n",
        "\n",
        "    for doc in docs:\n",
        "        word_counts.update(doc)\n",
        "        word_in_docs.update(set(doc))\n",
        "\n",
        "    temp = zip(word_counts.keys(), word_counts.values())\n",
        "\n",
        "    wc = pd.DataFrame(temp, columns = ['word', 'count'])\n",
        "\n",
        "    # 단어의 순위\n",
        "    # method='first': 같은 값의 경우 먼저나온 요소를 우선\n",
        "    wc['rank'] = wc['count'].rank(method='first', ascending=False)\n",
        "    total = wc['count'].sum()\n",
        "\n",
        "    # 코퍼스 내 단어의 비율\n",
        "    wc['percent'] = wc['count'].apply(lambda x: x / total)\n",
        "\n",
        "    wc = wc.sort_values(by='rank')\n",
        "\n",
        "    # 누적 비율\n",
        "    # cumsum() : cumulative sum\n",
        "    wc['cul_percent'] = wc['percent'].cumsum()\n",
        "\n",
        "    temp2 = zip(word_in_docs.keys(), word_in_docs.values())\n",
        "    ac = pd.DataFrame(temp2, columns=['word', 'word_in_docs'])\n",
        "    wc = ac.merge(wc, on='word')\n",
        "    \n",
        "    # 전체 문서 중 존재하는 비율\n",
        "    wc['word_in_docs_percent'] = wc['word_in_docs'].apply(lambda x: x / total_docs)\n",
        "\n",
        "    return wc.sort_values(by='rank')\n",
        "\n",
        "wc = word_count(df_token['tokens'])\n",
        "wc.head()"
      ],
      "metadata": {
        "colab": {
          "base_uri": "https://localhost:8080/",
          "height": 206
        },
        "id": "wdbqDTHmTS5O",
        "outputId": "4ba55e9b-c5b0-4d05-bcb3-e7005a827b0c"
      },
      "execution_count": 86,
      "outputs": [
        {
          "output_type": "execute_result",
          "data": {
            "text/plain": [
              "    word  word_in_docs  count  rank   percent  cul_percent  \\\n",
              "39   the          1000  17967   1.0  0.071086     0.071086   \n",
              "11    of           985   7773   2.0  0.030754     0.101840   \n",
              "8     to           980   7133   3.0  0.028222     0.130061   \n",
              "92   and           986   6908   4.0  0.027331     0.157393   \n",
              "110    a           968   6204   5.0  0.024546     0.181939   \n",
              "\n",
              "     word_in_docs_percent  \n",
              "39                  1.000  \n",
              "11                  0.985  \n",
              "8                   0.980  \n",
              "92                  0.986  \n",
              "110                 0.968  "
            ],
            "text/html": [
              "\n",
              "  <div id=\"df-9ad01b17-6781-48a2-a2bb-04ffbb3c8275\">\n",
              "    <div class=\"colab-df-container\">\n",
              "      <div>\n",
              "<style scoped>\n",
              "    .dataframe tbody tr th:only-of-type {\n",
              "        vertical-align: middle;\n",
              "    }\n",
              "\n",
              "    .dataframe tbody tr th {\n",
              "        vertical-align: top;\n",
              "    }\n",
              "\n",
              "    .dataframe thead th {\n",
              "        text-align: right;\n",
              "    }\n",
              "</style>\n",
              "<table border=\"1\" class=\"dataframe\">\n",
              "  <thead>\n",
              "    <tr style=\"text-align: right;\">\n",
              "      <th></th>\n",
              "      <th>word</th>\n",
              "      <th>word_in_docs</th>\n",
              "      <th>count</th>\n",
              "      <th>rank</th>\n",
              "      <th>percent</th>\n",
              "      <th>cul_percent</th>\n",
              "      <th>word_in_docs_percent</th>\n",
              "    </tr>\n",
              "  </thead>\n",
              "  <tbody>\n",
              "    <tr>\n",
              "      <th>39</th>\n",
              "      <td>the</td>\n",
              "      <td>1000</td>\n",
              "      <td>17967</td>\n",
              "      <td>1.0</td>\n",
              "      <td>0.071086</td>\n",
              "      <td>0.071086</td>\n",
              "      <td>1.000</td>\n",
              "    </tr>\n",
              "    <tr>\n",
              "      <th>11</th>\n",
              "      <td>of</td>\n",
              "      <td>985</td>\n",
              "      <td>7773</td>\n",
              "      <td>2.0</td>\n",
              "      <td>0.030754</td>\n",
              "      <td>0.101840</td>\n",
              "      <td>0.985</td>\n",
              "    </tr>\n",
              "    <tr>\n",
              "      <th>8</th>\n",
              "      <td>to</td>\n",
              "      <td>980</td>\n",
              "      <td>7133</td>\n",
              "      <td>3.0</td>\n",
              "      <td>0.028222</td>\n",
              "      <td>0.130061</td>\n",
              "      <td>0.980</td>\n",
              "    </tr>\n",
              "    <tr>\n",
              "      <th>92</th>\n",
              "      <td>and</td>\n",
              "      <td>986</td>\n",
              "      <td>6908</td>\n",
              "      <td>4.0</td>\n",
              "      <td>0.027331</td>\n",
              "      <td>0.157393</td>\n",
              "      <td>0.986</td>\n",
              "    </tr>\n",
              "    <tr>\n",
              "      <th>110</th>\n",
              "      <td>a</td>\n",
              "      <td>968</td>\n",
              "      <td>6204</td>\n",
              "      <td>5.0</td>\n",
              "      <td>0.024546</td>\n",
              "      <td>0.181939</td>\n",
              "      <td>0.968</td>\n",
              "    </tr>\n",
              "  </tbody>\n",
              "</table>\n",
              "</div>\n",
              "      <button class=\"colab-df-convert\" onclick=\"convertToInteractive('df-9ad01b17-6781-48a2-a2bb-04ffbb3c8275')\"\n",
              "              title=\"Convert this dataframe to an interactive table.\"\n",
              "              style=\"display:none;\">\n",
              "        \n",
              "  <svg xmlns=\"http://www.w3.org/2000/svg\" height=\"24px\"viewBox=\"0 0 24 24\"\n",
              "       width=\"24px\">\n",
              "    <path d=\"M0 0h24v24H0V0z\" fill=\"none\"/>\n",
              "    <path d=\"M18.56 5.44l.94 2.06.94-2.06 2.06-.94-2.06-.94-.94-2.06-.94 2.06-2.06.94zm-11 1L8.5 8.5l.94-2.06 2.06-.94-2.06-.94L8.5 2.5l-.94 2.06-2.06.94zm10 10l.94 2.06.94-2.06 2.06-.94-2.06-.94-.94-2.06-.94 2.06-2.06.94z\"/><path d=\"M17.41 7.96l-1.37-1.37c-.4-.4-.92-.59-1.43-.59-.52 0-1.04.2-1.43.59L10.3 9.45l-7.72 7.72c-.78.78-.78 2.05 0 2.83L4 21.41c.39.39.9.59 1.41.59.51 0 1.02-.2 1.41-.59l7.78-7.78 2.81-2.81c.8-.78.8-2.07 0-2.86zM5.41 20L4 18.59l7.72-7.72 1.47 1.35L5.41 20z\"/>\n",
              "  </svg>\n",
              "      </button>\n",
              "      \n",
              "  <style>\n",
              "    .colab-df-container {\n",
              "      display:flex;\n",
              "      flex-wrap:wrap;\n",
              "      gap: 12px;\n",
              "    }\n",
              "\n",
              "    .colab-df-convert {\n",
              "      background-color: #E8F0FE;\n",
              "      border: none;\n",
              "      border-radius: 50%;\n",
              "      cursor: pointer;\n",
              "      display: none;\n",
              "      fill: #1967D2;\n",
              "      height: 32px;\n",
              "      padding: 0 0 0 0;\n",
              "      width: 32px;\n",
              "    }\n",
              "\n",
              "    .colab-df-convert:hover {\n",
              "      background-color: #E2EBFA;\n",
              "      box-shadow: 0px 1px 2px rgba(60, 64, 67, 0.3), 0px 1px 3px 1px rgba(60, 64, 67, 0.15);\n",
              "      fill: #174EA6;\n",
              "    }\n",
              "\n",
              "    [theme=dark] .colab-df-convert {\n",
              "      background-color: #3B4455;\n",
              "      fill: #D2E3FC;\n",
              "    }\n",
              "\n",
              "    [theme=dark] .colab-df-convert:hover {\n",
              "      background-color: #434B5C;\n",
              "      box-shadow: 0px 1px 3px 1px rgba(0, 0, 0, 0.15);\n",
              "      filter: drop-shadow(0px 1px 2px rgba(0, 0, 0, 0.3));\n",
              "      fill: #FFFFFF;\n",
              "    }\n",
              "  </style>\n",
              "\n",
              "      <script>\n",
              "        const buttonEl =\n",
              "          document.querySelector('#df-9ad01b17-6781-48a2-a2bb-04ffbb3c8275 button.colab-df-convert');\n",
              "        buttonEl.style.display =\n",
              "          google.colab.kernel.accessAllowed ? 'block' : 'none';\n",
              "\n",
              "        async function convertToInteractive(key) {\n",
              "          const element = document.querySelector('#df-9ad01b17-6781-48a2-a2bb-04ffbb3c8275');\n",
              "          const dataTable =\n",
              "            await google.colab.kernel.invokeFunction('convertToInteractive',\n",
              "                                                     [key], {});\n",
              "          if (!dataTable) return;\n",
              "\n",
              "          const docLinkHtml = 'Like what you see? Visit the ' +\n",
              "            '<a target=\"_blank\" href=https://colab.research.google.com/notebooks/data_table.ipynb>data table notebook</a>'\n",
              "            + ' to learn more about interactive tables.';\n",
              "          element.innerHTML = '';\n",
              "          dataTable['output_type'] = 'display_data';\n",
              "          await google.colab.output.renderOutput(dataTable, element);\n",
              "          const docLink = document.createElement('div');\n",
              "          docLink.innerHTML = docLinkHtml;\n",
              "          element.appendChild(docLink);\n",
              "        }\n",
              "      </script>\n",
              "    </div>\n",
              "  </div>\n",
              "  "
            ]
          },
          "metadata": {},
          "execution_count": 86
        }
      ]
    },
    {
      "cell_type": "code",
      "source": [
        "import seaborn as sns\n",
        "\n",
        "sns.lineplot(x='rank', y='cul_percent', data=wc);"
      ],
      "metadata": {
        "colab": {
          "base_uri": "https://localhost:8080/",
          "height": 279
        },
        "id": "j18CpJM-UOno",
        "outputId": "09f654e9-6b97-4b6a-b70b-cb43fa50ef21"
      },
      "execution_count": 87,
      "outputs": [
        {
          "output_type": "display_data",
          "data": {
            "text/plain": [
              "<Figure size 432x288 with 1 Axes>"
            ],
            "image/png": "[encoded data removed]"
          },
          "metadata": {
            "needs_background": "light"
          }
        }
      ]
    },
    {
      "cell_type": "code",
      "source": [
        "wc[wc['rank'] <= 3000]['cul_percent'].max()"
      ],
      "metadata": {
        "colab": {
          "base_uri": "https://localhost:8080/"
        },
        "id": "n9CO3lT2UdIM",
        "outputId": "f1ca02a5-4c83-466f-b9a4-f0313a045576"
      },
      "execution_count": 88,
      "outputs": [
        {
          "output_type": "execute_result",
          "data": {
            "text/plain": [
              "0.8801899109792217"
            ]
          },
          "metadata": {},
          "execution_count": 88
        }
      ]
    },
    {
      "cell_type": "markdown",
      "source": [
        "####2-4. 불용어(Stop words)"
      ],
      "metadata": {
        "id": "OKXc6puTBm7Y"
      }
    },
    {
      "cell_type": "code",
      "source": [
        "STOP_WORDS = nlp.Defaults.stop_words.union(['game','boardgame','quot','\\n','\\n\\n'])\n",
        "\n",
        "\n",
        "tokens = []\n",
        "# 토큰에서 불용어 제거, 소문자화 하여 업데이트\n",
        "for doc in df_token['tokens']:\n",
        "    doc_tokens = []\n",
        "\n",
        "    for token in doc: \n",
        "        if token not in STOP_WORDS:\n",
        "            doc_tokens.append(token)\n",
        "\n",
        "    tokens.append(doc_tokens)\n",
        "\n",
        "df_token['tokens'] = tokens\n",
        "word_count(df_token['tokens']).head(10)"
      ],
      "metadata": {
        "id": "qr_sl0GbUhrm",
        "colab": {
          "base_uri": "https://localhost:8080/",
          "height": 363
        },
        "outputId": "9a677ca7-5503-4d49-bb9c-64c4388cd032"
      },
      "execution_count": 99,
      "outputs": [
        {
          "output_type": "execute_result",
          "data": {
            "text/plain": [
              "          word  word_in_docs  count  rank   percent  cul_percent  \\\n",
              "71     players           825   2419   1.0  0.019556     0.019556   \n",
              "14       cards           505   1828   2.0  0.014778     0.034334   \n",
              "46      player           632   1669   3.0  0.013493     0.047827   \n",
              "221       card           355   1015   4.0  0.008206     0.056033   \n",
              "5          new           422    794   5.0  0.006419     0.062451   \n",
              "99      points           365    717   6.0  0.005796     0.068248   \n",
              "341       play           396    673   7.0  0.005441     0.073689   \n",
              "82       board           343    586   8.0  0.004737     0.078426   \n",
              "96        turn           376    580   9.0  0.004689     0.083115   \n",
              "562  different           294    437  10.0  0.003533     0.086648   \n",
              "\n",
              "     word_in_docs_percent  \n",
              "71                  0.825  \n",
              "14                  0.505  \n",
              "46                  0.632  \n",
              "221                 0.355  \n",
              "5                   0.422  \n",
              "99                  0.365  \n",
              "341                 0.396  \n",
              "82                  0.343  \n",
              "96                  0.376  \n",
              "562                 0.294  "
            ],
            "text/html": [
              "\n",
              "  <div id=\"df-55fe1956-d67d-488c-b873-ae015ec002cf\">\n",
              "    <div class=\"colab-df-container\">\n",
              "      <div>\n",
              "<style scoped>\n",
              "    .dataframe tbody tr th:only-of-type {\n",
              "        vertical-align: middle;\n",
              "    }\n",
              "\n",
              "    .dataframe tbody tr th {\n",
              "        vertical-align: top;\n",
              "    }\n",
              "\n",
              "    .dataframe thead th {\n",
              "        text-align: right;\n",
              "    }\n",
              "</style>\n",
              "<table border=\"1\" class=\"dataframe\">\n",
              "  <thead>\n",
              "    <tr style=\"text-align: right;\">\n",
              "      <th></th>\n",
              "      <th>word</th>\n",
              "      <th>word_in_docs</th>\n",
              "      <th>count</th>\n",
              "      <th>rank</th>\n",
              "      <th>percent</th>\n",
              "      <th>cul_percent</th>\n",
              "      <th>word_in_docs_percent</th>\n",
              "    </tr>\n",
              "  </thead>\n",
              "  <tbody>\n",
              "    <tr>\n",
              "      <th>71</th>\n",
              "      <td>players</td>\n",
              "      <td>825</td>\n",
              "      <td>2419</td>\n",
              "      <td>1.0</td>\n",
              "      <td>0.019556</td>\n",
              "      <td>0.019556</td>\n",
              "      <td>0.825</td>\n",
              "    </tr>\n",
              "    <tr>\n",
              "      <th>14</th>\n",
              "      <td>cards</td>\n",
              "      <td>505</td>\n",
              "      <td>1828</td>\n",
              "      <td>2.0</td>\n",
              "      <td>0.014778</td>\n",
              "      <td>0.034334</td>\n",
              "      <td>0.505</td>\n",
              "    </tr>\n",
              "    <tr>\n",
              "      <th>46</th>\n",
              "      <td>player</td>\n",
              "      <td>632</td>\n",
              "      <td>1669</td>\n",
              "      <td>3.0</td>\n",
              "      <td>0.013493</td>\n",
              "      <td>0.047827</td>\n",
              "      <td>0.632</td>\n",
              "    </tr>\n",
              "    <tr>\n",
              "      <th>221</th>\n",
              "      <td>card</td>\n",
              "      <td>355</td>\n",
              "      <td>1015</td>\n",
              "      <td>4.0</td>\n",
              "      <td>0.008206</td>\n",
              "      <td>0.056033</td>\n",
              "      <td>0.355</td>\n",
              "    </tr>\n",
              "    <tr>\n",
              "      <th>5</th>\n",
              "      <td>new</td>\n",
              "      <td>422</td>\n",
              "      <td>794</td>\n",
              "      <td>5.0</td>\n",
              "      <td>0.006419</td>\n",
              "      <td>0.062451</td>\n",
              "      <td>0.422</td>\n",
              "    </tr>\n",
              "    <tr>\n",
              "      <th>99</th>\n",
              "      <td>points</td>\n",
              "      <td>365</td>\n",
              "      <td>717</td>\n",
              "      <td>6.0</td>\n",
              "      <td>0.005796</td>\n",
              "      <td>0.068248</td>\n",
              "      <td>0.365</td>\n",
              "    </tr>\n",
              "    <tr>\n",
              "      <th>341</th>\n",
              "      <td>play</td>\n",
              "      <td>396</td>\n",
              "      <td>673</td>\n",
              "      <td>7.0</td>\n",
              "      <td>0.005441</td>\n",
              "      <td>0.073689</td>\n",
              "      <td>0.396</td>\n",
              "    </tr>\n",
              "    <tr>\n",
              "      <th>82</th>\n",
              "      <td>board</td>\n",
              "      <td>343</td>\n",
              "      <td>586</td>\n",
              "      <td>8.0</td>\n",
              "      <td>0.004737</td>\n",
              "      <td>0.078426</td>\n",
              "      <td>0.343</td>\n",
              "    </tr>\n",
              "    <tr>\n",
              "      <th>96</th>\n",
              "      <td>turn</td>\n",
              "      <td>376</td>\n",
              "      <td>580</td>\n",
              "      <td>9.0</td>\n",
              "      <td>0.004689</td>\n",
              "      <td>0.083115</td>\n",
              "      <td>0.376</td>\n",
              "    </tr>\n",
              "    <tr>\n",
              "      <th>562</th>\n",
              "      <td>different</td>\n",
              "      <td>294</td>\n",
              "      <td>437</td>\n",
              "      <td>10.0</td>\n",
              "      <td>0.003533</td>\n",
              "      <td>0.086648</td>\n",
              "      <td>0.294</td>\n",
              "    </tr>\n",
              "  </tbody>\n",
              "</table>\n",
              "</div>\n",
              "      <button class=\"colab-df-convert\" onclick=\"convertToInteractive('df-55fe1956-d67d-488c-b873-ae015ec002cf')\"\n",
              "              title=\"Convert this dataframe to an interactive table.\"\n",
              "              style=\"display:none;\">\n",
              "        \n",
              "  <svg xmlns=\"http://www.w3.org/2000/svg\" height=\"24px\"viewBox=\"0 0 24 24\"\n",
              "       width=\"24px\">\n",
              "    <path d=\"M0 0h24v24H0V0z\" fill=\"none\"/>\n",
              "    <path d=\"M18.56 5.44l.94 2.06.94-2.06 2.06-.94-2.06-.94-.94-2.06-.94 2.06-2.06.94zm-11 1L8.5 8.5l.94-2.06 2.06-.94-2.06-.94L8.5 2.5l-.94 2.06-2.06.94zm10 10l.94 2.06.94-2.06 2.06-.94-2.06-.94-.94-2.06-.94 2.06-2.06.94z\"/><path d=\"M17.41 7.96l-1.37-1.37c-.4-.4-.92-.59-1.43-.59-.52 0-1.04.2-1.43.59L10.3 9.45l-7.72 7.72c-.78.78-.78 2.05 0 2.83L4 21.41c.39.39.9.59 1.41.59.51 0 1.02-.2 1.41-.59l7.78-7.78 2.81-2.81c.8-.78.8-2.07 0-2.86zM5.41 20L4 18.59l7.72-7.72 1.47 1.35L5.41 20z\"/>\n",
              "  </svg>\n",
              "      </button>\n",
              "      \n",
              "  <style>\n",
              "    .colab-df-container {\n",
              "      display:flex;\n",
              "      flex-wrap:wrap;\n",
              "      gap: 12px;\n",
              "    }\n",
              "\n",
              "    .colab-df-convert {\n",
              "      background-color: #E8F0FE;\n",
              "      border: none;\n",
              "      border-radius: 50%;\n",
              "      cursor: pointer;\n",
              "      display: none;\n",
              "      fill: #1967D2;\n",
              "      height: 32px;\n",
              "      padding: 0 0 0 0;\n",
              "      width: 32px;\n",
              "    }\n",
              "\n",
              "    .colab-df-convert:hover {\n",
              "      background-color: #E2EBFA;\n",
              "      box-shadow: 0px 1px 2px rgba(60, 64, 67, 0.3), 0px 1px 3px 1px rgba(60, 64, 67, 0.15);\n",
              "      fill: #174EA6;\n",
              "    }\n",
              "\n",
              "    [theme=dark] .colab-df-convert {\n",
              "      background-color: #3B4455;\n",
              "      fill: #D2E3FC;\n",
              "    }\n",
              "\n",
              "    [theme=dark] .colab-df-convert:hover {\n",
              "      background-color: #434B5C;\n",
              "      box-shadow: 0px 1px 3px 1px rgba(0, 0, 0, 0.15);\n",
              "      filter: drop-shadow(0px 1px 2px rgba(0, 0, 0, 0.3));\n",
              "      fill: #FFFFFF;\n",
              "    }\n",
              "  </style>\n",
              "\n",
              "      <script>\n",
              "        const buttonEl =\n",
              "          document.querySelector('#df-55fe1956-d67d-488c-b873-ae015ec002cf button.colab-df-convert');\n",
              "        buttonEl.style.display =\n",
              "          google.colab.kernel.accessAllowed ? 'block' : 'none';\n",
              "\n",
              "        async function convertToInteractive(key) {\n",
              "          const element = document.querySelector('#df-55fe1956-d67d-488c-b873-ae015ec002cf');\n",
              "          const dataTable =\n",
              "            await google.colab.kernel.invokeFunction('convertToInteractive',\n",
              "                                                     [key], {});\n",
              "          if (!dataTable) return;\n",
              "\n",
              "          const docLinkHtml = 'Like what you see? Visit the ' +\n",
              "            '<a target=\"_blank\" href=https://colab.research.google.com/notebooks/data_table.ipynb>data table notebook</a>'\n",
              "            + ' to learn more about interactive tables.';\n",
              "          element.innerHTML = '';\n",
              "          dataTable['output_type'] = 'display_data';\n",
              "          await google.colab.output.renderOutput(dataTable, element);\n",
              "          const docLink = document.createElement('div');\n",
              "          docLink.innerHTML = docLinkHtml;\n",
              "          element.appendChild(docLink);\n",
              "        }\n",
              "      </script>\n",
              "    </div>\n",
              "  </div>\n",
              "  "
            ]
          },
          "metadata": {},
          "execution_count": 99
        }
      ]
    },
    {
      "cell_type": "markdown",
      "source": [
        "####2-5. 표제어 추출(Stemming)"
      ],
      "metadata": {
        "id": "juOnFohVBm48"
      }
    },
    {
      "cell_type": "code",
      "source": [
        "from nltk.stem import PorterStemmer\n",
        "\n",
        "ps = PorterStemmer()\n",
        "\n",
        "tokens = []\n",
        "for doc in df_token['tokens']:\n",
        "    doc_tokens = []\n",
        "    for token in doc:\n",
        "        doc_tokens.append(ps.stem(token))\n",
        "    tokens.append(doc_tokens)\n",
        "\n",
        "df_token['tokens'] = tokens"
      ],
      "metadata": {
        "id": "eJmKFidHapmW"
      },
      "execution_count": 117,
      "outputs": []
    },
    {
      "cell_type": "code",
      "source": [
        "df_token"
      ],
      "metadata": {
        "colab": {
          "base_uri": "https://localhost:8080/",
          "height": 537
        },
        "id": "GUCVqiQmgI6i",
        "outputId": "4e3c34c2-a367-4b53-f223-f7dd724ecad8"
      },
      "execution_count": 118,
      "outputs": [
        {
          "output_type": "execute_result",
          "data": {
            "text/plain": [
              "          id                    primary  \\\n",
              "0      30549                   Pandemic   \n",
              "1        822                Carcassonne   \n",
              "2         13                      Catan   \n",
              "3      68448                  7 Wonders   \n",
              "4      36218                   Dominion   \n",
              "...      ...                        ...   \n",
              "1014  165950                 Beasty Bar   \n",
              "1015     249                  Lifeboats   \n",
              "1016     340                Frank's Zoo   \n",
              "1017  144797     Argent: The Consortium   \n",
              "1018  129051  Le Havre: The Inland Port   \n",
              "\n",
              "                                            description  \\\n",
              "0     In Pandemic, several virulent diseases have br...   \n",
              "1     Carcassonne is a tile-placement game in which ...   \n",
              "2     In CATAN (formerly The Settlers of Catan), pla...   \n",
              "3     You are the leader of one of the 7 great citie...   \n",
              "4     &quot;You are a monarch, like your parents bef...   \n",
              "...                                                 ...   \n",
              "1014  The animals are dressed up and ready to enter ...   \n",
              "1015  Also known as 'Rette Sich Wer Kann' ('Each Man...   \n",
              "1016  This game is played in several hands. In each ...   \n",
              "1017  The time has come for the selection of a new C...   \n",
              "1018  Le Havre: The Inland Port is a two-player game...   \n",
              "\n",
              "                                                 tokens  \n",
              "0     [pandem, virul, diseas, broken, simultan, worl...  \n",
              "1     [carcassonn, tileplac, player, draw, place, ti...  \n",
              "2     [catan, settler, catan, player, tri, domin, fo...  \n",
              "3     [leader, 7, great, citi, ancient, world, gathe...  \n",
              "4     [monarch, like, parent, ruler, small, pleasant...  \n",
              "...                                                 ...  \n",
              "1014  [anim, dress, readi, enter, beasti, barquot, n...  \n",
              "1015  [known, rett, sich, wer, kann, man, time, refe...  \n",
              "1016  [play, hand, hand, player, tri, rid, card, sco...  \n",
              "1017  [time, come, select, new, chancellor, argent, ...  \n",
              "1018  [le, havr, inland, port, twoplay, player, comp...  \n",
              "\n",
              "[1000 rows x 4 columns]"
            ],
            "text/html": [
              "\n",
              "  <div id=\"df-3ff67419-5aff-4763-8203-df474469a1e1\">\n",
              "    <div class=\"colab-df-container\">\n",
              "      <div>\n",
              "<style scoped>\n",
              "    .dataframe tbody tr th:only-of-type {\n",
              "        vertical-align: middle;\n",
              "    }\n",
              "\n",
              "    .dataframe tbody tr th {\n",
              "        vertical-align: top;\n",
              "    }\n",
              "\n",
              "    .dataframe thead th {\n",
              "        text-align: right;\n",
              "    }\n",
              "</style>\n",
              "<table border=\"1\" class=\"dataframe\">\n",
              "  <thead>\n",
              "    <tr style=\"text-align: right;\">\n",
              "      <th></th>\n",
              "      <th>id</th>\n",
              "      <th>primary</th>\n",
              "      <th>description</th>\n",
              "      <th>tokens</th>\n",
              "    </tr>\n",
              "  </thead>\n",
              "  <tbody>\n",
              "    <tr>\n",
              "      <th>0</th>\n",
              "      <td>30549</td>\n",
              "      <td>Pandemic</td>\n",
              "      <td>In Pandemic, several virulent diseases have br...</td>\n",
              "      <td>[pandem, virul, diseas, broken, simultan, worl...</td>\n",
              "    </tr>\n",
              "    <tr>\n",
              "      <th>1</th>\n",
              "      <td>822</td>\n",
              "      <td>Carcassonne</td>\n",
              "      <td>Carcassonne is a tile-placement game in which ...</td>\n",
              "      <td>[carcassonn, tileplac, player, draw, place, ti...</td>\n",
              "    </tr>\n",
              "    <tr>\n",
              "      <th>2</th>\n",
              "      <td>13</td>\n",
              "      <td>Catan</td>\n",
              "      <td>In CATAN (formerly The Settlers of Catan), pla...</td>\n",
              "      <td>[catan, settler, catan, player, tri, domin, fo...</td>\n",
              "    </tr>\n",
              "    <tr>\n",
              "      <th>3</th>\n",
              "      <td>68448</td>\n",
              "      <td>7 Wonders</td>\n",
              "      <td>You are the leader of one of the 7 great citie...</td>\n",
              "      <td>[leader, 7, great, citi, ancient, world, gathe...</td>\n",
              "    </tr>\n",
              "    <tr>\n",
              "      <th>4</th>\n",
              "      <td>36218</td>\n",
              "      <td>Dominion</td>\n",
              "      <td>&amp;quot;You are a monarch, like your parents bef...</td>\n",
              "      <td>[monarch, like, parent, ruler, small, pleasant...</td>\n",
              "    </tr>\n",
              "    <tr>\n",
              "      <th>...</th>\n",
              "      <td>...</td>\n",
              "      <td>...</td>\n",
              "      <td>...</td>\n",
              "      <td>...</td>\n",
              "    </tr>\n",
              "    <tr>\n",
              "      <th>1014</th>\n",
              "      <td>165950</td>\n",
              "      <td>Beasty Bar</td>\n",
              "      <td>The animals are dressed up and ready to enter ...</td>\n",
              "      <td>[anim, dress, readi, enter, beasti, barquot, n...</td>\n",
              "    </tr>\n",
              "    <tr>\n",
              "      <th>1015</th>\n",
              "      <td>249</td>\n",
              "      <td>Lifeboats</td>\n",
              "      <td>Also known as 'Rette Sich Wer Kann' ('Each Man...</td>\n",
              "      <td>[known, rett, sich, wer, kann, man, time, refe...</td>\n",
              "    </tr>\n",
              "    <tr>\n",
              "      <th>1016</th>\n",
              "      <td>340</td>\n",
              "      <td>Frank's Zoo</td>\n",
              "      <td>This game is played in several hands. In each ...</td>\n",
              "      <td>[play, hand, hand, player, tri, rid, card, sco...</td>\n",
              "    </tr>\n",
              "    <tr>\n",
              "      <th>1017</th>\n",
              "      <td>144797</td>\n",
              "      <td>Argent: The Consortium</td>\n",
              "      <td>The time has come for the selection of a new C...</td>\n",
              "      <td>[time, come, select, new, chancellor, argent, ...</td>\n",
              "    </tr>\n",
              "    <tr>\n",
              "      <th>1018</th>\n",
              "      <td>129051</td>\n",
              "      <td>Le Havre: The Inland Port</td>\n",
              "      <td>Le Havre: The Inland Port is a two-player game...</td>\n",
              "      <td>[le, havr, inland, port, twoplay, player, comp...</td>\n",
              "    </tr>\n",
              "  </tbody>\n",
              "</table>\n",
              "<p>1000 rows × 4 columns</p>\n",
              "</div>\n",
              "      <button class=\"colab-df-convert\" onclick=\"convertToInteractive('df-3ff67419-5aff-4763-8203-df474469a1e1')\"\n",
              "              title=\"Convert this dataframe to an interactive table.\"\n",
              "              style=\"display:none;\">\n",
              "        \n",
              "  <svg xmlns=\"http://www.w3.org/2000/svg\" height=\"24px\"viewBox=\"0 0 24 24\"\n",
              "       width=\"24px\">\n",
              "    <path d=\"M0 0h24v24H0V0z\" fill=\"none\"/>\n",
              "    <path d=\"M18.56 5.44l.94 2.06.94-2.06 2.06-.94-2.06-.94-.94-2.06-.94 2.06-2.06.94zm-11 1L8.5 8.5l.94-2.06 2.06-.94-2.06-.94L8.5 2.5l-.94 2.06-2.06.94zm10 10l.94 2.06.94-2.06 2.06-.94-2.06-.94-.94-2.06-.94 2.06-2.06.94z\"/><path d=\"M17.41 7.96l-1.37-1.37c-.4-.4-.92-.59-1.43-.59-.52 0-1.04.2-1.43.59L10.3 9.45l-7.72 7.72c-.78.78-.78 2.05 0 2.83L4 21.41c.39.39.9.59 1.41.59.51 0 1.02-.2 1.41-.59l7.78-7.78 2.81-2.81c.8-.78.8-2.07 0-2.86zM5.41 20L4 18.59l7.72-7.72 1.47 1.35L5.41 20z\"/>\n",
              "  </svg>\n",
              "      </button>\n",
              "      \n",
              "  <style>\n",
              "    .colab-df-container {\n",
              "      display:flex;\n",
              "      flex-wrap:wrap;\n",
              "      gap: 12px;\n",
              "    }\n",
              "\n",
              "    .colab-df-convert {\n",
              "      background-color: #E8F0FE;\n",
              "      border: none;\n",
              "      border-radius: 50%;\n",
              "      cursor: pointer;\n",
              "      display: none;\n",
              "      fill: #1967D2;\n",
              "      height: 32px;\n",
              "      padding: 0 0 0 0;\n",
              "      width: 32px;\n",
              "    }\n",
              "\n",
              "    .colab-df-convert:hover {\n",
              "      background-color: #E2EBFA;\n",
              "      box-shadow: 0px 1px 2px rgba(60, 64, 67, 0.3), 0px 1px 3px 1px rgba(60, 64, 67, 0.15);\n",
              "      fill: #174EA6;\n",
              "    }\n",
              "\n",
              "    [theme=dark] .colab-df-convert {\n",
              "      background-color: #3B4455;\n",
              "      fill: #D2E3FC;\n",
              "    }\n",
              "\n",
              "    [theme=dark] .colab-df-convert:hover {\n",
              "      background-color: #434B5C;\n",
              "      box-shadow: 0px 1px 3px 1px rgba(0, 0, 0, 0.15);\n",
              "      filter: drop-shadow(0px 1px 2px rgba(0, 0, 0, 0.3));\n",
              "      fill: #FFFFFF;\n",
              "    }\n",
              "  </style>\n",
              "\n",
              "      <script>\n",
              "        const buttonEl =\n",
              "          document.querySelector('#df-3ff67419-5aff-4763-8203-df474469a1e1 button.colab-df-convert');\n",
              "        buttonEl.style.display =\n",
              "          google.colab.kernel.accessAllowed ? 'block' : 'none';\n",
              "\n",
              "        async function convertToInteractive(key) {\n",
              "          const element = document.querySelector('#df-3ff67419-5aff-4763-8203-df474469a1e1');\n",
              "          const dataTable =\n",
              "            await google.colab.kernel.invokeFunction('convertToInteractive',\n",
              "                                                     [key], {});\n",
              "          if (!dataTable) return;\n",
              "\n",
              "          const docLinkHtml = 'Like what you see? Visit the ' +\n",
              "            '<a target=\"_blank\" href=https://colab.research.google.com/notebooks/data_table.ipynb>data table notebook</a>'\n",
              "            + ' to learn more about interactive tables.';\n",
              "          element.innerHTML = '';\n",
              "          dataTable['output_type'] = 'display_data';\n",
              "          await google.colab.output.renderOutput(dataTable, element);\n",
              "          const docLink = document.createElement('div');\n",
              "          docLink.innerHTML = docLinkHtml;\n",
              "          element.appendChild(docLink);\n",
              "        }\n",
              "      </script>\n",
              "    </div>\n",
              "  </div>\n",
              "  "
            ]
          },
          "metadata": {},
          "execution_count": 118
        }
      ]
    },
    {
      "cell_type": "markdown",
      "source": [
        "####2-6. 토큰 시각화(SpaCy)"
      ],
      "metadata": {
        "id": "VY3PRxhRBmrH"
      }
    },
    {
      "cell_type": "code",
      "source": [
        "!pip install squarify"
      ],
      "metadata": {
        "colab": {
          "base_uri": "https://localhost:8080/"
        },
        "id": "LmJwVpsEhVyw",
        "outputId": "ebcafdb0-c832-4865-c242-620b2b6f1ce4"
      },
      "execution_count": 121,
      "outputs": [
        {
          "output_type": "stream",
          "name": "stdout",
          "text": [
            "Looking in indexes: https://pypi.org/simple, https://us-python.pkg.dev/colab-wheels/public/simple/\n",
            "Collecting squarify\n",
            "  Downloading squarify-0.4.3-py3-none-any.whl (4.3 kB)\n",
            "Installing collected packages: squarify\n",
            "Successfully installed squarify-0.4.3\n"
          ]
        }
      ]
    },
    {
      "cell_type": "code",
      "source": [
        "import spacy\n",
        "import squarify\n",
        "import matplotlib.pyplot as plt\n",
        "# nlp = spacy.load(\"en_core_web_sm\")\n",
        "\n",
        "wc = word_count(df_token['tokens'])\n",
        "wc_top20 = wc[wc['rank'] <= 20]\n",
        "\n",
        "squarify.plot(sizes=wc_top20['percent'], label=wc_top20['word'], alpha=0.6 )\n",
        "plt.axis('off')\n",
        "plt.show()"
      ],
      "metadata": {
        "colab": {
          "base_uri": "https://localhost:8080/",
          "height": 248
        },
        "id": "z0V8tBonazdk",
        "outputId": "fa3cb77c-48fe-4e21-c9a2-ed36bbab7a54"
      },
      "execution_count": 123,
      "outputs": [
        {
          "output_type": "display_data",
          "data": {
            "text/plain": [
              "<Figure size 432x288 with 1 Axes>"
            ],
            "image/png": "[encoded data removed]"
          },
          "metadata": {
            "needs_background": "light"
          }
        }
      ]
    }
  ]
}